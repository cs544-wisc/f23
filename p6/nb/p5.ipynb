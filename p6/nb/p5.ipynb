{
 "cells": [
  {
   "cell_type": "code",
   "execution_count": 40,
   "metadata": {},
   "outputs": [],
   "source": [
    "from cassandra.cluster import Cluster\n",
    "import station_pb2_grpc\n",
    "import station_pb2\n",
    "import pandas as pd\n",
    "import sys\n",
    "import os\n",
    "import subprocess\n",
    "import grpc\n",
    "from datetime import date\n",
    "\n",
    "from pyspark.sql import SparkSession\n",
    "from pyspark.sql.types import IntegerType,StringType\n",
    "from pyspark.sql.functions import udf\n",
    "from pyspark.sql.functions import corr\n",
    "from pyspark.sql.functions import col\n",
    "import matplotlib.pyplot as plt"
   ]
  },
  {
   "cell_type": "markdown",
   "metadata": {},
   "source": [
    "Part 1"
   ]
  },
  {
   "cell_type": "code",
   "execution_count": 41,
   "metadata": {},
   "outputs": [],
   "source": [
    "try:\n",
    "    cluster = Cluster(['p6_db_2', 'p6_db_1', 'p6_db_3'])\n",
    "    session = cluster.connect()\n",
    "except Exception as e:\n",
    "    print(e)"
   ]
  },
  {
   "cell_type": "code",
   "execution_count": 42,
   "metadata": {},
   "outputs": [],
   "source": [
    "spark = (SparkSession.builder\n",
    "         .appName(\"txt-reader\")\n",
    "         .config(\"spark.driver.allowMultipleContexts\", \"true\")\n",
    "         .config(\"spark.jars.packages\", \"com.datastax.spark:spark-cassandra-connector_2.12:3.2.0\")\n",
    "         .config(\"spark.sql.extensions\", \"com.datastax.spark.connector.CassandraSparkExtensions\")\n",
    "         .getOrCreate())"
   ]
  },
  {
   "cell_type": "code",
   "execution_count": 43,
   "metadata": {},
   "outputs": [
    {
     "data": {
      "text/plain": [
       "<cassandra.cluster.ResultSet at 0x7f75e03179a0>"
      ]
     },
     "execution_count": 43,
     "metadata": {},
     "output_type": "execute_result"
    }
   ],
   "source": [
    "session.execute(\" DROP KEYSPACE IF EXISTS weather;\") # Ensure to drop the keyspace\n",
    "\n",
    "# Create keyspace\n",
    "session.execute(\"\"\"CREATE KEYSPACE weather\n",
    "  WITH REPLICATION = { \n",
    "   'class' : 'SimpleStrategy', \n",
    "   'replication_factor' : 3 \n",
    "  };\"\"\")\n",
    "\n",
    "# Create type\n",
    "session.execute(\"\"\" CREATE type weather.station_record (\n",
    "    tmin int,\n",
    "    tmax int                \n",
    ");\"\"\")\n",
    "\n",
    "# Create table\n",
    "session.execute(\"\"\" CREATE TABLE weather.stations (\n",
    "    id text,\n",
    "    name text STATIC,\n",
    "    date date,\n",
    "    record FROZEN<weather.station_record>,\n",
    "    PRIMARY KEY (id, date)              \n",
    ") WITH CLUSTERING ORDER BY (date ASC); \"\"\")"
   ]
  },
  {
   "cell_type": "code",
   "execution_count": 4,
   "metadata": {},
   "outputs": [
    {
     "name": "stdout",
     "output_type": "stream",
     "text": [
      "CREATE KEYSPACE weather WITH replication = {'class': 'SimpleStrategy', 'replication_factor': '3'}  AND durable_writes = true;\n",
      "CREATE TABLE weather.stations (\n",
      "    id text,\n",
      "    date date,\n",
      "    name text static,\n",
      "    record frozen<station_record>,\n",
      "    PRIMARY KEY (id, date)\n",
      ") WITH CLUSTERING ORDER BY (date ASC)\n",
      "    AND additional_write_policy = '99p'\n",
      "    AND bloom_filter_fp_chance = 0.01\n",
      "    AND caching = {'keys': 'ALL', 'rows_per_partition': 'NONE'}\n",
      "    AND cdc = false\n",
      "    AND comment = ''\n",
      "    AND compaction = {'class': 'org.apache.cassandra.db.compaction.SizeTieredCompactionStrategy', 'max_threshold': '32', 'min_threshold': '4'}\n",
      "    AND compression = {'chunk_length_in_kb': '16', 'class': 'org.apache.cassandra.io.compress.LZ4Compressor'}\n",
      "    AND crc_check_chance = 1.0\n",
      "    AND default_time_to_live = 0\n",
      "    AND extensions = {}\n",
      "    AND gc_grace_seconds = 864000\n",
      "    AND max_index_interval = 2048\n",
      "    AND memtable_flush_period_in_ms = 0\n",
      "    AND min_index_interval = 128\n",
      "    AND read_repair = 'BLOCKING'\n",
      "    AND speculative_retry = '99p';\n"
     ]
    }
   ],
   "source": [
    "print(session.execute(\"describe keyspace weather\").one().create_statement)\n",
    "print(session.execute(\"describe table weather.stations\").one().create_statement)"
   ]
  },
  {
   "cell_type": "code",
   "execution_count": 44,
   "metadata": {},
   "outputs": [],
   "source": [
    "if not os.path.exists(\"ghcnd-stations.txt\"):\n",
    "    ! wget https://pages.cs.wisc.edu/~harter/cs544/data/ghcnd-stations.txt"
   ]
  },
  {
   "cell_type": "code",
   "execution_count": 45,
   "metadata": {},
   "outputs": [
    {
     "data": {
      "text/html": [
       "<div>\n",
       "<style scoped>\n",
       "    .dataframe tbody tr th:only-of-type {\n",
       "        vertical-align: middle;\n",
       "    }\n",
       "\n",
       "    .dataframe tbody tr th {\n",
       "        vertical-align: top;\n",
       "    }\n",
       "\n",
       "    .dataframe thead th {\n",
       "        text-align: right;\n",
       "    }\n",
       "</style>\n",
       "<table border=\"1\" class=\"dataframe\">\n",
       "  <thead>\n",
       "    <tr style=\"text-align: right;\">\n",
       "      <th></th>\n",
       "      <th>value</th>\n",
       "    </tr>\n",
       "  </thead>\n",
       "  <tbody>\n",
       "    <tr>\n",
       "      <th>0</th>\n",
       "      <td>ACW00011604  17.1167  -61.7833   10.1    ST JO...</td>\n",
       "    </tr>\n",
       "    <tr>\n",
       "      <th>1</th>\n",
       "      <td>ACW00011647  17.1333  -61.7833   19.2    ST JO...</td>\n",
       "    </tr>\n",
       "    <tr>\n",
       "      <th>2</th>\n",
       "      <td>AE000041196  25.3330   55.5170   34.0    SHARJ...</td>\n",
       "    </tr>\n",
       "    <tr>\n",
       "      <th>3</th>\n",
       "      <td>AEM00041194  25.2550   55.3640   10.4    DUBAI...</td>\n",
       "    </tr>\n",
       "    <tr>\n",
       "      <th>4</th>\n",
       "      <td>AEM00041217  24.4330   54.6510   26.8    ABU D...</td>\n",
       "    </tr>\n",
       "  </tbody>\n",
       "</table>\n",
       "</div>"
      ],
      "text/plain": [
       "                                               value\n",
       "0  ACW00011604  17.1167  -61.7833   10.1    ST JO...\n",
       "1  ACW00011647  17.1333  -61.7833   19.2    ST JO...\n",
       "2  AE000041196  25.3330   55.5170   34.0    SHARJ...\n",
       "3  AEM00041194  25.2550   55.3640   10.4    DUBAI...\n",
       "4  AEM00041217  24.4330   54.6510   26.8    ABU D..."
      ]
     },
     "execution_count": 45,
     "metadata": {},
     "output_type": "execute_result"
    }
   ],
   "source": [
    "df = spark.read.text(\"ghcnd-stations.txt\").toPandas()\n",
    "df.head()"
   ]
  },
  {
   "cell_type": "code",
   "execution_count": 46,
   "metadata": {},
   "outputs": [
    {
     "name": "stdout",
     "output_type": "stream",
     "text": [
      "Number of data points is 1313\n"
     ]
    },
    {
     "data": {
      "text/html": [
       "<div>\n",
       "<style scoped>\n",
       "    .dataframe tbody tr th:only-of-type {\n",
       "        vertical-align: middle;\n",
       "    }\n",
       "\n",
       "    .dataframe tbody tr th {\n",
       "        vertical-align: top;\n",
       "    }\n",
       "\n",
       "    .dataframe thead th {\n",
       "        text-align: right;\n",
       "    }\n",
       "</style>\n",
       "<table border=\"1\" class=\"dataframe\">\n",
       "  <thead>\n",
       "    <tr style=\"text-align: right;\">\n",
       "      <th></th>\n",
       "      <th>value</th>\n",
       "      <th>ID</th>\n",
       "      <th>LATITUDE</th>\n",
       "      <th>LONGITUDE</th>\n",
       "      <th>ELEVATION</th>\n",
       "      <th>STATE</th>\n",
       "      <th>NAME</th>\n",
       "      <th>GSN FLAG</th>\n",
       "      <th>HCN/CRN FLAG</th>\n",
       "      <th>WMO ID</th>\n",
       "    </tr>\n",
       "  </thead>\n",
       "  <tbody>\n",
       "    <tr>\n",
       "      <th>93901</th>\n",
       "      <td>US1WIAD0002  43.9544  -89.8096  294.4 WI ADAMS...</td>\n",
       "      <td>US1WIAD0002</td>\n",
       "      <td>43.9544</td>\n",
       "      <td>-89.8096</td>\n",
       "      <td>294.4</td>\n",
       "      <td>WI</td>\n",
       "      <td>ADAMS 0.4 E</td>\n",
       "      <td></td>\n",
       "      <td></td>\n",
       "      <td></td>\n",
       "    </tr>\n",
       "    <tr>\n",
       "      <th>93902</th>\n",
       "      <td>US1WIAD0005  44.2053  -89.8480  305.7 WI NEKOO...</td>\n",
       "      <td>US1WIAD0005</td>\n",
       "      <td>44.2053</td>\n",
       "      <td>-89.8480</td>\n",
       "      <td>305.7</td>\n",
       "      <td>WI</td>\n",
       "      <td>NEKOOSA 8.0 SSE</td>\n",
       "      <td></td>\n",
       "      <td></td>\n",
       "      <td></td>\n",
       "    </tr>\n",
       "    <tr>\n",
       "      <th>93903</th>\n",
       "      <td>US1WIAD0006  43.8858  -89.7259  307.8 WI GRAND...</td>\n",
       "      <td>US1WIAD0006</td>\n",
       "      <td>43.8858</td>\n",
       "      <td>-89.7259</td>\n",
       "      <td>307.8</td>\n",
       "      <td>WI</td>\n",
       "      <td>GRAND MARSH 1.0 W</td>\n",
       "      <td></td>\n",
       "      <td></td>\n",
       "      <td></td>\n",
       "    </tr>\n",
       "    <tr>\n",
       "      <th>93904</th>\n",
       "      <td>US1WIAD0008  43.8611  -89.7163  310.0 WI GRAND...</td>\n",
       "      <td>US1WIAD0008</td>\n",
       "      <td>43.8611</td>\n",
       "      <td>-89.7163</td>\n",
       "      <td>310.0</td>\n",
       "      <td>WI</td>\n",
       "      <td>GRAND MARSH 1.9 SSW</td>\n",
       "      <td></td>\n",
       "      <td></td>\n",
       "      <td></td>\n",
       "    </tr>\n",
       "    <tr>\n",
       "      <th>93905</th>\n",
       "      <td>US1WIAD0010  43.7864  -89.6417  293.8 WI OXFOR...</td>\n",
       "      <td>US1WIAD0010</td>\n",
       "      <td>43.7864</td>\n",
       "      <td>-89.6417</td>\n",
       "      <td>293.8</td>\n",
       "      <td>WI</td>\n",
       "      <td>OXFORD 4.0 W</td>\n",
       "      <td></td>\n",
       "      <td></td>\n",
       "      <td></td>\n",
       "    </tr>\n",
       "  </tbody>\n",
       "</table>\n",
       "</div>"
      ],
      "text/plain": [
       "                                                   value           ID  \\\n",
       "93901  US1WIAD0002  43.9544  -89.8096  294.4 WI ADAMS...  US1WIAD0002   \n",
       "93902  US1WIAD0005  44.2053  -89.8480  305.7 WI NEKOO...  US1WIAD0005   \n",
       "93903  US1WIAD0006  43.8858  -89.7259  307.8 WI GRAND...  US1WIAD0006   \n",
       "93904  US1WIAD0008  43.8611  -89.7163  310.0 WI GRAND...  US1WIAD0008   \n",
       "93905  US1WIAD0010  43.7864  -89.6417  293.8 WI OXFOR...  US1WIAD0010   \n",
       "\n",
       "      LATITUDE LONGITUDE ELEVATION STATE                 NAME GSN FLAG  \\\n",
       "93901  43.9544  -89.8096     294.4    WI          ADAMS 0.4 E            \n",
       "93902  44.2053  -89.8480     305.7    WI      NEKOOSA 8.0 SSE            \n",
       "93903  43.8858  -89.7259     307.8    WI    GRAND MARSH 1.0 W            \n",
       "93904  43.8611  -89.7163     310.0    WI  GRAND MARSH 1.9 SSW            \n",
       "93905  43.7864  -89.6417     293.8    WI         OXFORD 4.0 W            \n",
       "\n",
       "      HCN/CRN FLAG WMO ID  \n",
       "93901                      \n",
       "93902                      \n",
       "93903                      \n",
       "93904                      \n",
       "93905                      "
      ]
     },
     "execution_count": 46,
     "metadata": {},
     "output_type": "execute_result"
    }
   ],
   "source": [
    "col_ranges = {\n",
    "    \"ID\" : [1, 11],\n",
    "    \"LATITUDE\" : [13, 20],\n",
    "    \"LONGITUDE\" : [22, 30],\n",
    "    \"ELEVATION\" : [32, 37],\n",
    "    \"STATE\" : [39, 40],\n",
    "    \"NAME\" : [42, 71],\n",
    "    \"GSN FLAG\" : [73, 75],\n",
    "    \"HCN/CRN FLAG\" : [77, 79],\n",
    "    \"WMO ID\" : [81, 85]\n",
    "}\n",
    "\n",
    "for col_name in col_ranges:\n",
    "    range_vals = col_ranges[col_name]\n",
    "    start_val, end_val = range_vals[0], range_vals[1]\n",
    "    df[col_name] = df[\"value\"].str[start_val - 1 : end_val]\n",
    "    df[col_name] = df[col_name].str.strip()\n",
    "\n",
    "wisconsin_data = df[df[\"STATE\"] == \"WI\"]\n",
    "print(\"Number of data points is\", len(wisconsin_data.index))\n",
    "wisconsin_data.head()"
   ]
  },
  {
   "cell_type": "code",
   "execution_count": 47,
   "metadata": {},
   "outputs": [
    {
     "name": "stdout",
     "output_type": "stream",
     "text": [
      "Row(id='US1AZPM0036', name='TUCSON 3.9 NW')\n"
     ]
    },
    {
     "name": "stderr",
     "output_type": "stream",
     "text": [
      "/tmp/ipykernel_341/4276896248.py:8: DeprecationWarning: ResultSet indexing support will be removed in 4.0. Consider using ResultSet.one() to get a single row.\n",
      "  print(rows[0])\n"
     ]
    }
   ],
   "source": [
    "query = \"INSERT INTO weather.stations(id, name) VALUES (?, ?)\"\n",
    "prepared = session.prepare(query)\n",
    "for index, row in df.iterrows():\n",
    "    session.execute(prepared, (row[\"ID\"], row[\"NAME\"]) )\n",
    "\n",
    "# Verify that the rows were inserted properly\n",
    "rows = session.execute(\"SELECT id, name FROM weather.stations LIMIT 5\")\n",
    "print(rows[0])"
   ]
  },
  {
   "cell_type": "code",
   "execution_count": 49,
   "metadata": {},
   "outputs": [
    {
     "name": "stdout",
     "output_type": "stream",
     "text": [
      "\n",
      "Datacenter: datacenter1\n",
      "==========\n",
      "Address          Rack        Status State   Load            Owns                Token                                       \n",
      "                                                                                9042877249209554468                         \n",
      "172.27.0.2       rack1       Up     Normal  5.4 MiB         100.00%             -8715111515286740160                        \n",
      "172.27.0.4       rack1       Up     Normal  5.26 MiB        100.00%             -7932906987615511327                        \n",
      "172.27.0.3       rack1       Up     Normal  5.12 MiB        100.00%             -7813862271986098509                        \n",
      "172.27.0.2       rack1       Up     Normal  5.4 MiB         100.00%             -7643610898946707347                        \n",
      "172.27.0.2       rack1       Up     Normal  5.4 MiB         100.00%             -6625759494204280331                        \n",
      "172.27.0.4       rack1       Up     Normal  5.26 MiB        100.00%             -6313883691918468029                        \n",
      "172.27.0.3       rack1       Up     Normal  5.12 MiB        100.00%             -6194838976289055211                        \n",
      "172.27.0.2       rack1       Up     Normal  5.4 MiB         100.00%             -5808087561591929537                        \n",
      "172.27.0.4       rack1       Up     Normal  5.26 MiB        100.00%             -5335738239402353954                        \n",
      "172.27.0.3       rack1       Up     Normal  5.12 MiB        100.00%             -5216693523772941136                        \n",
      "172.27.0.2       rack1       Up     Normal  5.4 MiB         100.00%             -4732331680366349997                        \n",
      "172.27.0.2       rack1       Up     Normal  5.4 MiB         100.00%             -3996415987655456356                        \n",
      "172.27.0.4       rack1       Up     Normal  5.26 MiB        100.00%             -3557103938578766825                        \n",
      "172.27.0.3       rack1       Up     Normal  5.12 MiB        100.00%             -3438059222949354007                        \n",
      "172.27.0.2       rack1       Up     Normal  5.4 MiB         100.00%             -2917043180207854699                        \n",
      "172.27.0.4       rack1       Up     Normal  5.26 MiB        100.00%             -2461062038343828536                        \n",
      "172.27.0.3       rack1       Up     Normal  5.12 MiB        100.00%             -2342017322714415718                        \n",
      "172.27.0.2       rack1       Up     Normal  5.4 MiB         100.00%             -1673523174527262725                        \n",
      "172.27.0.4       rack1       Up     Normal  5.26 MiB        100.00%             -1369764927651616276                        \n",
      "172.27.0.3       rack1       Up     Normal  5.12 MiB        100.00%             -1250720212022203458                        \n",
      "172.27.0.2       rack1       Up     Normal  5.4 MiB         100.00%             -706158931448727227                         \n",
      "172.27.0.4       rack1       Up     Normal  5.26 MiB        100.00%             -525388280160454520                         \n",
      "172.27.0.3       rack1       Up     Normal  5.12 MiB        100.00%             -406343564531041702                         \n",
      "172.27.0.2       rack1       Up     Normal  5.4 MiB         100.00%             883845621065171410                          \n",
      "172.27.0.4       rack1       Up     Normal  5.26 MiB        100.00%             914879949742128718                          \n",
      "172.27.0.3       rack1       Up     Normal  5.12 MiB        100.00%             1033924665371541536                         \n",
      "172.27.0.4       rack1       Up     Normal  5.26 MiB        100.00%             1986380566082161531                         \n",
      "172.27.0.3       rack1       Up     Normal  5.12 MiB        100.00%             2105425281711574349                         \n",
      "172.27.0.2       rack1       Up     Normal  5.4 MiB         100.00%             2502868916762214707                         \n",
      "172.27.0.4       rack1       Up     Normal  5.26 MiB        100.00%             3004231970824588546                         \n",
      "172.27.0.3       rack1       Up     Normal  5.12 MiB        100.00%             3123276686454001364                         \n",
      "172.27.0.2       rack1       Up     Normal  5.4 MiB         100.00%             3481014369278328783                         \n",
      "172.27.0.4       rack1       Up     Normal  5.26 MiB        100.00%             3821903903436939341                         \n",
      "172.27.0.3       rack1       Up     Normal  5.12 MiB        100.00%             3940948619066352159                         \n",
      "172.27.0.4       rack1       Up     Normal  5.26 MiB        100.00%             4897659784662518880                         \n",
      "172.27.0.3       rack1       Up     Normal  5.12 MiB        100.00%             5016704500291931698                         \n",
      "172.27.0.2       rack1       Up     Normal  5.4 MiB         100.00%             5259648670101915911                         \n",
      "172.27.0.4       rack1       Up     Normal  5.26 MiB        100.00%             5633575477373412521                         \n",
      "172.27.0.3       rack1       Up     Normal  5.12 MiB        100.00%             5752620193002825339                         \n",
      "172.27.0.2       rack1       Up     Normal  5.4 MiB         100.00%             6355690570336854200                         \n",
      "172.27.0.4       rack1       Up     Normal  5.26 MiB        100.00%             6712948284821014179                         \n",
      "172.27.0.3       rack1       Up     Normal  5.12 MiB        100.00%             6831993000450426997                         \n",
      "172.27.0.2       rack1       Up     Normal  5.4 MiB         100.00%             7446987681029066459                         \n",
      "172.27.0.4       rack1       Up     Normal  5.26 MiB        100.00%             7956468290501606151                         \n",
      "172.27.0.3       rack1       Up     Normal  5.12 MiB        100.00%             8075513006131018969                         \n",
      "172.27.0.2       rack1       Up     Normal  5.4 MiB         100.00%             8291364328520228217                         \n",
      "172.27.0.4       rack1       Up     Normal  5.26 MiB        100.00%             8923832533580141650                         \n",
      "172.27.0.3       rack1       Up     Normal  5.12 MiB        100.00%             9042877249209554468                         \n",
      "\n",
      "  Warning: \"nodetool ring\" is used to output all the tokens of a node.\n",
      "  To view status related info of a node use \"nodetool status\" instead.\n",
      "\n",
      "\n",
      "  \n"
     ]
    }
   ],
   "source": [
    "result = subprocess.check_output([\"nodetool\", \"ring\"]).decode(sys.stdout.encoding)\n",
    "print(result)"
   ]
  },
  {
   "cell_type": "code",
   "execution_count": 51,
   "metadata": {},
   "outputs": [],
   "source": [
    "# Get the row token\n",
    "row = session.execute(\"SELECT token(id) FROM weather.stations WHERE id = %s\", (\"USC00470273\",))\n",
    "row_token = row.one()[0]\n",
    "\n",
    "# Get all the vnode tokens\n",
    "result = subprocess.check_output([\"nodetool\", \"ring\"]).decode(sys.stdout.encoding)\n",
    "lines = result.splitlines()[3 : ]\n",
    "token_idx = lines.pop(0).index(\"Token\")\n",
    "lines.pop(0)\n",
    "tokens = [line[token_idx : ].strip() for line in lines]\n",
    "\n",
    "# Get the v node token\n",
    "vnode_token = None\n",
    "if row_token <= int(tokens[0]):\n",
    "    vnode_token = tokens[0]\n",
    "else:\n",
    "    for i in range(0, len(tokens) - 1):\n",
    "        # Make sure the tokens are valid\n",
    "        if len(tokens[i]) == 0 or len(tokens[i + 1]) == 0:\n",
    "            continue\n",
    "        \n",
    "        # Check if the row is in this range\n",
    "        if row_token >= int(tokens[i]) and row_token <= int(tokens[i + 1]):\n",
    "            vnode_token = tokens[i + 1]\n",
    "            break"
   ]
  },
  {
   "cell_type": "code",
   "execution_count": 52,
   "metadata": {},
   "outputs": [
    {
     "name": "stdout",
     "output_type": "stream",
     "text": [
      "row token: -9014250178872933741\n",
      "vnode token: -8715111515286740160\n"
     ]
    }
   ],
   "source": [
    "print(\"row token:\", row_token)\n",
    "print(\"vnode token:\", vnode_token)"
   ]
  },
  {
   "cell_type": "code",
   "execution_count": 54,
   "metadata": {},
   "outputs": [],
   "source": [
    "spark.stop()"
   ]
  },
  {
   "cell_type": "markdown",
   "metadata": {},
   "source": [
    "Part 2"
   ]
  },
  {
   "cell_type": "code",
   "execution_count": 55,
   "metadata": {},
   "outputs": [],
   "source": [
    "if not os.path.exists(\"wi-stations.zip\"):\n",
    "    !wget https://pages.cs.wisc.edu/~harter/cs544/data/wi-stations.zip\n",
    "    !unzip wi-stations.zip"
   ]
  },
  {
   "cell_type": "code",
   "execution_count": 66,
   "metadata": {},
   "outputs": [
    {
     "name": "stderr",
     "output_type": "stream",
     "text": [
      "23/09/01 17:51:04 WARN ChannelPool: [s1|/172.27.0.3:9042]  Error while opening new channel (ConnectionInitException: [s1|connecting...] Protocol initialization request, step 1 (STARTUP {CQL_VERSION=3.0.0, DRIVER_NAME=DataStax Java driver for Apache Cassandra(R), DRIVER_VERSION=4.13.0, CLIENT_ID=28ffa618-bd2b-48c5-9d20-653f261e26b1, APPLICATION_NAME=Spark-Cassandra-Connector-local-1693588388533}): failed to send request (java.nio.channels.NotYetConnectedException))\n",
      "23/09/01 17:51:05 WARN ChannelPool: [s0|p6_db_2/172.27.0.3:9042]  Error while opening new channel (ConnectionInitException: [s0|connecting...] Protocol initialization request, step 1 (STARTUP {CQL_VERSION=3.0.0, DRIVER_NAME=DataStax Java driver for Apache Cassandra(R), DRIVER_VERSION=4.13.0, CLIENT_ID=daedec1a-d180-4e35-bd75-e0e47f04aafe, APPLICATION_NAME=Spark-Cassandra-Connector-local-1693588388533}): failed to send request (java.nio.channels.NotYetConnectedException))\n"
     ]
    }
   ],
   "source": [
    "PORT_TO_USE = 5440\n",
    "SERVER_ADDRESS = f\"127.0.0.1:{PORT_TO_USE}\"\n",
    "\n",
    "channel = grpc.insecure_channel(SERVER_ADDRESS)\n",
    "stub = station_pb2_grpc.StationStub(channel)"
   ]
  },
  {
   "cell_type": "code",
   "execution_count": 57,
   "metadata": {},
   "outputs": [],
   "source": [
    "def simulate_sensor(station):\n",
    "    col_names = [\"station_id\", \"date\", \"type\", \"value\", \"Unknown#1\", \"Unknown#2\", \"Unknown#3\", \"Unknown#4\"]\n",
    "    df = pd.read_csv(station + \".csv.gz\", names = col_names, header = None)\n",
    "\n",
    "    record_by_date = {}\n",
    "    for index, row in df.iterrows():\n",
    "        # Make sure they are 2022 records\n",
    "        record_date = str(row[\"date\"]).strip()\n",
    "\n",
    "        if record_date[ : 4] != \"2022\":\n",
    "            continue\n",
    "        \n",
    "        # Make sure they are temperature records\n",
    "        if row[\"type\"] != \"TMAX\" and row[\"type\"] != \"TMIN\":\n",
    "            continue\n",
    "        \n",
    "        date_val = date(int(record_date[ : 4]), int(record_date[4 : 6]), int(record_date[6 : ]))\n",
    "        if date_val not in record_by_date:\n",
    "            record_by_date[date_val] = []\n",
    "        record_by_date[date_val].append(int(row[\"value\"]))\n",
    "    \n",
    "    for curr_date in record_by_date:\n",
    "        date_temps = record_by_date[curr_date]\n",
    "        response = stub.RecordTemps(station_pb2.RecordTempsRequest(station = station, date = str(curr_date), tmin = min(date_temps), tmax = max(date_temps)))"
   ]
  },
  {
   "cell_type": "code",
   "execution_count": 58,
   "metadata": {},
   "outputs": [
    {
     "name": "stderr",
     "output_type": "stream",
     "text": [
      "/tmp/ipykernel_341/2591731489.py:3: DtypeWarning: Columns (5) have mixed types. Specify dtype option on import or set low_memory=False.\n",
      "  df = pd.read_csv(station + \".csv.gz\", names = col_names, header = None)\n"
     ]
    },
    {
     "name": "stdout",
     "output_type": "stream",
     "text": [
      "max temp for USW00014837 is 356\n",
      "max temp for USR0000WDDG is 344\n"
     ]
    },
    {
     "name": "stderr",
     "output_type": "stream",
     "text": [
      "/tmp/ipykernel_341/2591731489.py:3: DtypeWarning: Columns (5) have mixed types. Specify dtype option on import or set low_memory=False.\n",
      "  df = pd.read_csv(station + \".csv.gz\", names = col_names, header = None)\n"
     ]
    },
    {
     "name": "stdout",
     "output_type": "stream",
     "text": [
      "max temp for USW00014898 is 356\n"
     ]
    },
    {
     "name": "stderr",
     "output_type": "stream",
     "text": [
      "/tmp/ipykernel_341/2591731489.py:3: DtypeWarning: Columns (5) have mixed types. Specify dtype option on import or set low_memory=False.\n",
      "  df = pd.read_csv(station + \".csv.gz\", names = col_names, header = None)\n"
     ]
    },
    {
     "name": "stdout",
     "output_type": "stream",
     "text": [
      "max temp for USW00014839 is 378\n"
     ]
    }
   ],
   "source": [
    "for station in [\"USW00014837\", \"USR0000WDDG\", \"USW00014898\", \"USW00014839\"]:\n",
    "    simulate_sensor(station)\n",
    "    r = stub.StationMax(station_pb2.StationMaxRequest(station=station))\n",
    "    if r.error:\n",
    "        print(r.error)\n",
    "    else:\n",
    "        print(f\"max temp for {station} is {r.tmax}\")"
   ]
  },
  {
   "cell_type": "code",
   "execution_count": null,
   "metadata": {},
   "outputs": [],
   "source": [
    "Part 3"
   ]
  },
  {
   "cell_type": "code",
   "execution_count": 59,
   "metadata": {},
   "outputs": [],
   "source": [
    "spark = (SparkSession.builder\n",
    "         .appName(\"cassandra-connector\")\n",
    "         .config(\"spark.driver.allowMultipleContexts\", \"true\")\n",
    "         .config(\"spark.jars.packages\", \"com.datastax.spark:spark-cassandra-connector_2.12:3.2.0\")\n",
    "         .config(\"spark.sql.extensions\", \"com.datastax.spark.connector.CassandraSparkExtensions\")\n",
    "         .config(\"spark.cassandra.connection.host\", \"p6_db_3,p6_db_2,p6_db_1\")  # Cassandra nodes\n",
    "         .config(\"spark.cassandra.connection.port\", \"9042\")  # Cassandra port\n",
    "         .getOrCreate())"
   ]
  },
  {
   "cell_type": "code",
   "execution_count": 60,
   "metadata": {},
   "outputs": [
    {
     "name": "stdout",
     "output_type": "stream",
     "text": [
      "+---------+-----------+-----------+\n",
      "|namespace|  tableName|isTemporary|\n",
      "+---------+-----------+-----------+\n",
      "|         |weather2022|       true|\n",
      "+---------+-----------+-----------+\n",
      "\n"
     ]
    }
   ],
   "source": [
    "# Load all the data\n",
    "cassandra_df = spark.read \\\n",
    "    .format(\"org.apache.spark.sql.cassandra\") \\\n",
    "    .options(table=\"stations\", keyspace=\"weather\") \\\n",
    "    .load()\n",
    "\n",
    "# Create a temp view of the 2022 data and cache it\n",
    "only_22_df = cassandra_df.filter(cassandra_df[\"date\"].like(\"%2022%\"))\n",
    "only_22_view = only_22_df.createOrReplaceTempView(\"weather2022\")\n",
    "spark.table(\"weather2022\").cache()\n",
    "spark.sql(\"show tables\").show()"
   ]
  },
  {
   "cell_type": "code",
   "execution_count": 61,
   "metadata": {},
   "outputs": [
    {
     "data": {
      "text/plain": [
       "<function __main__.cel_to_far_converter(temp)>"
      ]
     },
     "execution_count": 61,
     "metadata": {},
     "output_type": "execute_result"
    }
   ],
   "source": [
    "# Register the UDF\n",
    "def cel_to_far_converter(temp):\n",
    "    return float((temp * 0.1) * 9.0/5.0 + 32.0)\n",
    "\n",
    "spark.udf.register(\"cel_to_far\", cel_to_far_converter)"
   ]
  },
  {
   "cell_type": "code",
   "execution_count": 62,
   "metadata": {},
   "outputs": [
    {
     "name": "stderr",
     "output_type": "stream",
     "text": [
      "                                                                                \r"
     ]
    },
    {
     "data": {
      "text/plain": [
       "<matplotlib.legend.Legend at 0x7f75e38323b0>"
      ]
     },
     "execution_count": 62,
     "metadata": {},
     "output_type": "execute_result"
    },
    {
     "data": {
      "image/png": "[encoded data removed]",
      "text/plain": [
       "<Figure size 640x480 with 1 Axes>"
      ]
     },
     "metadata": {},
     "output_type": "display_data"
    }
   ],
   "source": [
    "data = spark.sql(\"\"\"\n",
    "SELECT id, date, cel_to_far(record.tmin) as min_temp, cel_to_far(record.tmax) as max_temp\n",
    "FROM weather2022\n",
    "WHERE id = \"USW00014837\"\n",
    "\"\"\").toPandas()\n",
    "\n",
    "data[\"min_temp\"]= data['min_temp'].astype(float) #for plotting\n",
    "data['max_temp'] = data['max_temp'].astype(float)\n",
    "\n",
    "fig = data.plot.line(x = \"date\", y = [\"min_temp\", \"max_temp\"], ylabel = \"Daily Temp (Fahrenheit)\")\n",
    "fig.legend([\"low\", \"high\"])"
   ]
  },
  {
   "cell_type": "code",
   "execution_count": 63,
   "metadata": {},
   "outputs": [
    {
     "name": "stdout",
     "output_type": "stream",
     "text": [
      "Correlation is 0.9786907979650679\n"
     ]
    },
    {
     "name": "stderr",
     "output_type": "stream",
     "text": [
      "                                                                                \r"
     ]
    }
   ],
   "source": [
    "station1 = spark.sql(\"\"\"\n",
    "SELECT id, cel_to_far(record.tmax) as temp_max\n",
    "FROM weather2022\n",
    "WHERE id = \"USW00014837\" \n",
    "\"\"\").toPandas()\n",
    "\n",
    "station2 = spark.sql(\"\"\"\n",
    "SELECT id, cel_to_far(record.tmax) as temp_max\n",
    "FROM weather2022\n",
    "WHERE id = \"USW00014839\" \n",
    "\"\"\").toPandas()\n",
    "\n",
    "combined_maxes = spark.createDataFrame(zip(station1[\"temp_max\"], station2[\"temp_max\"]), [\"station1\", \"station2\"])\n",
    "coor_row = combined_maxes.agg(corr(\"station1\", \"station2\").alias(\"corr\")).collect()\n",
    "coor_val = list(coor_row[0])[0]\n",
    "print(\"Correlation is\", coor_val)"
   ]
  },
  {
   "cell_type": "markdown",
   "metadata": {},
   "source": [
    "Part 4"
   ]
  },
  {
   "cell_type": "code",
   "execution_count": 67,
   "metadata": {},
   "outputs": [
    {
     "data": {
      "text/plain": [
       "tmax: -1\n",
       "error: \"Couldn\\'t find max value for station USW00014837\""
      ]
     },
     "execution_count": 67,
     "metadata": {},
     "output_type": "execute_result"
    },
    {
     "name": "stderr",
     "output_type": "stream",
     "text": [
      "23/09/01 17:51:21 WARN ChannelPool: [s1|/172.27.0.3:9042]  Error while opening new channel (ConnectionInitException: [s1|connecting...] Protocol initialization request, step 1 (STARTUP {CQL_VERSION=3.0.0, DRIVER_NAME=DataStax Java driver for Apache Cassandra(R), DRIVER_VERSION=4.13.0, CLIENT_ID=28ffa618-bd2b-48c5-9d20-653f261e26b1, APPLICATION_NAME=Spark-Cassandra-Connector-local-1693588388533}): failed to send request (com.datastax.oss.driver.shaded.netty.channel.StacklessClosedChannelException))\n",
      "23/09/01 17:51:21 WARN ChannelPool: [s0|p6_db_2/172.27.0.3:9042]  Error while opening new channel (ConnectionInitException: [s0|connecting...] Protocol initialization request, step 1 (STARTUP {CQL_VERSION=3.0.0, DRIVER_NAME=DataStax Java driver for Apache Cassandra(R), DRIVER_VERSION=4.13.0, CLIENT_ID=daedec1a-d180-4e35-bd75-e0e47f04aafe, APPLICATION_NAME=Spark-Cassandra-Connector-local-1693588388533}): failed to send request (com.datastax.oss.driver.shaded.netty.channel.StacklessClosedChannelException))\n"
     ]
    }
   ],
   "source": [
    "stub.StationMax(station_pb2.StationMaxRequest(station=\"USW00014837\"))"
   ]
  },
  {
   "cell_type": "code",
   "execution_count": 68,
   "metadata": {},
   "outputs": [],
   "source": [
    "simulate_sensor(\"USC00477115\")"
   ]
  },
  {
   "cell_type": "code",
   "execution_count": 69,
   "metadata": {},
   "outputs": [
    {
     "name": "stdout",
     "output_type": "stream",
     "text": [
      "Pre refersh count 1460\n"
     ]
    }
   ],
   "source": [
    "count  = spark.sql(\"\"\"\n",
    "SELECT COUNT(record) AS count\n",
    "FROM weather2022\n",
    "\"\"\").collect()\n",
    "\n",
    "print(\"Pre refersh count\", list(count[0])[0])"
   ]
  },
  {
   "cell_type": "code",
   "execution_count": 70,
   "metadata": {},
   "outputs": [
    {
     "name": "stderr",
     "output_type": "stream",
     "text": [
      "23/09/01 17:51:31 ERROR CassandraConnectorConf: Unknown host 'p6_db_2'\n",
      "java.net.UnknownHostException: p6_db_2: Temporary failure in name resolution\n",
      "\tat java.net.Inet4AddressImpl.lookupAllHostAddr(Native Method)\n",
      "\tat java.net.InetAddress$2.lookupAllHostAddr(InetAddress.java:867)\n",
      "\tat java.net.InetAddress.getAddressesFromNameService(InetAddress.java:1302)\n",
      "\tat java.net.InetAddress$NameServiceAddresses.get(InetAddress.java:815)\n",
      "\tat java.net.InetAddress.getAllByName0(InetAddress.java:1291)\n",
      "\tat java.net.InetAddress.getAllByName(InetAddress.java:1144)\n",
      "\tat java.net.InetAddress.getAllByName(InetAddress.java:1065)\n",
      "\tat java.net.InetAddress.getByName(InetAddress.java:1015)\n",
      "\tat com.datastax.spark.connector.cql.CassandraConnectorConf$.maybeResolveHostAndPort(CassandraConnectorConf.scala:346)\n",
      "\tat com.datastax.spark.connector.cql.CassandraConnectorConf$.$anonfun$getIpBasedContactInfoFromSparkConf$1(CassandraConnectorConf.scala:379)\n",
      "\tat scala.collection.TraversableLike.$anonfun$flatMap$1(TraversableLike.scala:293)\n",
      "\tat scala.collection.immutable.Set$Set3.foreach(Set.scala:233)\n",
      "\tat scala.collection.TraversableLike.flatMap(TraversableLike.scala:293)\n",
      "\tat scala.collection.TraversableLike.flatMap$(TraversableLike.scala:290)\n",
      "\tat scala.collection.AbstractTraversable.flatMap(Traversable.scala:108)\n",
      "\tat com.datastax.spark.connector.cql.CassandraConnectorConf$.getIpBasedContactInfoFromSparkConf(CassandraConnectorConf.scala:378)\n",
      "\tat com.datastax.spark.connector.cql.CassandraConnectorConf$.getContactInfoFromSparkConf(CassandraConnectorConf.scala:368)\n",
      "\tat com.datastax.spark.connector.cql.CassandraConnectorConf$.fromSparkConf(CassandraConnectorConf.scala:433)\n",
      "\tat com.datastax.spark.connector.cql.CassandraConnectorConf$.apply(CassandraConnectorConf.scala:358)\n",
      "\tat com.datastax.spark.connector.cql.CassandraConnector$.apply(CassandraConnector.scala:225)\n",
      "\tat com.datastax.spark.connector.datasource.CassandraScanBuilder.<init>(CassandraScanBuilder.scala:40)\n",
      "\tat com.datastax.spark.connector.datasource.CassandraTable.newScanBuilder(CassandraTable.scala:62)\n",
      "\tat org.apache.spark.sql.execution.datasources.v2.V2ScanRelationPushDown$$anonfun$createScanBuilder$1.applyOrElse(V2ScanRelationPushDown.scala:44)\n",
      "\tat org.apache.spark.sql.execution.datasources.v2.V2ScanRelationPushDown$$anonfun$createScanBuilder$1.applyOrElse(V2ScanRelationPushDown.scala:42)\n",
      "\tat org.apache.spark.sql.catalyst.trees.TreeNode.$anonfun$transformDownWithPruning$1(TreeNode.scala:481)\n",
      "\tat org.apache.spark.sql.catalyst.trees.CurrentOrigin$.withOrigin(TreeNode.scala:82)\n",
      "\tat org.apache.spark.sql.catalyst.trees.TreeNode.transformDownWithPruning(TreeNode.scala:481)\n",
      "\tat org.apache.spark.sql.catalyst.plans.logical.LogicalPlan.org$apache$spark$sql$catalyst$plans$logical$AnalysisHelper$$super$transformDownWithPruning(LogicalPlan.scala:30)\n",
      "\tat org.apache.spark.sql.catalyst.plans.logical.AnalysisHelper.transformDownWithPruning(AnalysisHelper.scala:267)\n",
      "\tat org.apache.spark.sql.catalyst.plans.logical.AnalysisHelper.transformDownWithPruning$(AnalysisHelper.scala:263)\n",
      "\tat org.apache.spark.sql.catalyst.plans.logical.LogicalPlan.transformDownWithPruning(LogicalPlan.scala:30)\n",
      "\tat org.apache.spark.sql.catalyst.plans.logical.LogicalPlan.transformDownWithPruning(LogicalPlan.scala:30)\n",
      "\tat org.apache.spark.sql.catalyst.trees.TreeNode.$anonfun$transformDownWithPruning$3(TreeNode.scala:486)\n",
      "\tat org.apache.spark.sql.catalyst.trees.UnaryLike.mapChildren(TreeNode.scala:1122)\n",
      "\tat org.apache.spark.sql.catalyst.trees.UnaryLike.mapChildren$(TreeNode.scala:1121)\n",
      "\tat org.apache.spark.sql.catalyst.plans.logical.OrderPreservingUnaryNode.mapChildren(LogicalPlan.scala:206)\n",
      "\tat org.apache.spark.sql.catalyst.trees.TreeNode.transformDownWithPruning(TreeNode.scala:486)\n",
      "\tat org.apache.spark.sql.catalyst.plans.logical.LogicalPlan.org$apache$spark$sql$catalyst$plans$logical$AnalysisHelper$$super$transformDownWithPruning(LogicalPlan.scala:30)\n",
      "\tat org.apache.spark.sql.catalyst.plans.logical.AnalysisHelper.transformDownWithPruning(AnalysisHelper.scala:267)\n",
      "\tat org.apache.spark.sql.catalyst.plans.logical.AnalysisHelper.transformDownWithPruning$(AnalysisHelper.scala:263)\n",
      "\tat org.apache.spark.sql.catalyst.plans.logical.LogicalPlan.transformDownWithPruning(LogicalPlan.scala:30)\n",
      "\tat org.apache.spark.sql.catalyst.plans.logical.LogicalPlan.transformDownWithPruning(LogicalPlan.scala:30)\n",
      "\tat org.apache.spark.sql.catalyst.trees.TreeNode.transformDown(TreeNode.scala:457)\n",
      "\tat org.apache.spark.sql.catalyst.trees.TreeNode.transform(TreeNode.scala:425)\n",
      "\tat org.apache.spark.sql.execution.datasources.v2.V2ScanRelationPushDown$.createScanBuilder(V2ScanRelationPushDown.scala:42)\n",
      "\tat org.apache.spark.sql.execution.datasources.v2.V2ScanRelationPushDown$.apply(V2ScanRelationPushDown.scala:39)\n",
      "\tat org.apache.spark.sql.execution.datasources.v2.V2ScanRelationPushDown$.apply(V2ScanRelationPushDown.scala:35)\n",
      "\tat org.apache.spark.sql.catalyst.rules.RuleExecutor.$anonfun$execute$2(RuleExecutor.scala:211)\n",
      "\tat scala.collection.LinearSeqOptimized.foldLeft(LinearSeqOptimized.scala:126)\n",
      "\tat scala.collection.LinearSeqOptimized.foldLeft$(LinearSeqOptimized.scala:122)\n",
      "\tat scala.collection.immutable.List.foldLeft(List.scala:91)\n",
      "\tat org.apache.spark.sql.catalyst.rules.RuleExecutor.$anonfun$execute$1(RuleExecutor.scala:208)\n",
      "\tat org.apache.spark.sql.catalyst.rules.RuleExecutor.$anonfun$execute$1$adapted(RuleExecutor.scala:200)\n",
      "\tat scala.collection.immutable.List.foreach(List.scala:431)\n",
      "\tat org.apache.spark.sql.catalyst.rules.RuleExecutor.execute(RuleExecutor.scala:200)\n",
      "\tat org.apache.spark.sql.catalyst.rules.RuleExecutor.$anonfun$executeAndTrack$1(RuleExecutor.scala:179)\n",
      "\tat org.apache.spark.sql.catalyst.QueryPlanningTracker$.withTracker(QueryPlanningTracker.scala:88)\n",
      "\tat org.apache.spark.sql.catalyst.rules.RuleExecutor.executeAndTrack(RuleExecutor.scala:179)\n",
      "\tat org.apache.spark.sql.execution.QueryExecution.$anonfun$optimizedPlan$1(QueryExecution.scala:125)\n",
      "\tat org.apache.spark.sql.catalyst.QueryPlanningTracker.measurePhase(QueryPlanningTracker.scala:111)\n",
      "\tat org.apache.spark.sql.execution.QueryExecution.$anonfun$executePhase$1(QueryExecution.scala:183)\n",
      "\tat org.apache.spark.sql.SparkSession.withActive(SparkSession.scala:775)\n",
      "\tat org.apache.spark.sql.execution.QueryExecution.executePhase(QueryExecution.scala:183)\n",
      "\tat org.apache.spark.sql.execution.QueryExecution.optimizedPlan$lzycompute(QueryExecution.scala:121)\n",
      "\tat org.apache.spark.sql.execution.QueryExecution.optimizedPlan(QueryExecution.scala:117)\n",
      "\tat org.apache.spark.sql.execution.columnar.InMemoryRelation$.apply(InMemoryRelation.scala:349)\n",
      "\tat org.apache.spark.sql.execution.CacheManager.$anonfun$recacheByCondition$4(CacheManager.scala:229)\n",
      "\tat org.apache.spark.sql.SparkSession.withActive(SparkSession.scala:775)\n",
      "\tat org.apache.spark.sql.execution.CacheManager.$anonfun$recacheByCondition$3(CacheManager.scala:227)\n",
      "\tat org.apache.spark.sql.execution.CacheManager.$anonfun$recacheByCondition$3$adapted(CacheManager.scala:224)\n",
      "\tat scala.collection.Iterator.foreach(Iterator.scala:943)\n",
      "\tat scala.collection.Iterator.foreach$(Iterator.scala:943)\n",
      "\tat scala.collection.AbstractIterator.foreach(Iterator.scala:1431)\n",
      "\tat scala.collection.IterableLike.foreach(IterableLike.scala:74)\n",
      "\tat scala.collection.IterableLike.foreach$(IterableLike.scala:73)\n",
      "\tat scala.collection.AbstractIterable.foreach(Iterable.scala:56)\n",
      "\tat org.apache.spark.sql.execution.CacheManager.recacheByCondition(CacheManager.scala:224)\n",
      "\tat org.apache.spark.sql.execution.CacheManager.recacheByPlan(CacheManager.scala:210)\n",
      "\tat org.apache.spark.sql.internal.CatalogImpl.refreshTable(CatalogImpl.scala:556)\n",
      "\tat org.apache.spark.sql.execution.command.RefreshTableCommand.run(tables.scala:1333)\n",
      "\tat org.apache.spark.sql.execution.command.ExecutedCommandExec.sideEffectResult$lzycompute(commands.scala:75)\n",
      "\tat org.apache.spark.sql.execution.command.ExecutedCommandExec.sideEffectResult(commands.scala:73)\n",
      "\tat org.apache.spark.sql.execution.command.ExecutedCommandExec.executeCollect(commands.scala:84)\n",
      "\tat org.apache.spark.sql.execution.QueryExecution$$anonfun$eagerlyExecuteCommands$1.$anonfun$applyOrElse$1(QueryExecution.scala:97)\n",
      "\tat org.apache.spark.sql.execution.SQLExecution$.$anonfun$withNewExecutionId$5(SQLExecution.scala:103)\n",
      "\tat org.apache.spark.sql.execution.SQLExecution$.withSQLConfPropagated(SQLExecution.scala:163)\n",
      "\tat org.apache.spark.sql.execution.SQLExecution$.$anonfun$withNewExecutionId$1(SQLExecution.scala:90)\n",
      "\tat org.apache.spark.sql.SparkSession.withActive(SparkSession.scala:775)\n",
      "\tat org.apache.spark.sql.execution.SQLExecution$.withNewExecutionId(SQLExecution.scala:64)\n",
      "\tat org.apache.spark.sql.execution.QueryExecution$$anonfun$eagerlyExecuteCommands$1.applyOrElse(QueryExecution.scala:97)\n",
      "\tat org.apache.spark.sql.execution.QueryExecution$$anonfun$eagerlyExecuteCommands$1.applyOrElse(QueryExecution.scala:93)\n",
      "\tat org.apache.spark.sql.catalyst.trees.TreeNode.$anonfun$transformDownWithPruning$1(TreeNode.scala:481)\n",
      "\tat org.apache.spark.sql.catalyst.trees.CurrentOrigin$.withOrigin(TreeNode.scala:82)\n",
      "\tat org.apache.spark.sql.catalyst.trees.TreeNode.transformDownWithPruning(TreeNode.scala:481)\n",
      "\tat org.apache.spark.sql.catalyst.plans.logical.LogicalPlan.org$apache$spark$sql$catalyst$plans$logical$AnalysisHelper$$super$transformDownWithPruning(LogicalPlan.scala:30)\n",
      "\tat org.apache.spark.sql.catalyst.plans.logical.AnalysisHelper.transformDownWithPruning(AnalysisHelper.scala:267)\n",
      "\tat org.apache.spark.sql.catalyst.plans.logical.AnalysisHelper.transformDownWithPruning$(AnalysisHelper.scala:263)\n",
      "\tat org.apache.spark.sql.catalyst.plans.logical.LogicalPlan.transformDownWithPruning(LogicalPlan.scala:30)\n",
      "\tat org.apache.spark.sql.catalyst.plans.logical.LogicalPlan.transformDownWithPruning(LogicalPlan.scala:30)\n",
      "\tat org.apache.spark.sql.catalyst.trees.TreeNode.transformDown(TreeNode.scala:457)\n",
      "\tat org.apache.spark.sql.execution.QueryExecution.eagerlyExecuteCommands(QueryExecution.scala:93)\n",
      "\tat org.apache.spark.sql.execution.QueryExecution.commandExecuted$lzycompute(QueryExecution.scala:80)\n",
      "\tat org.apache.spark.sql.execution.QueryExecution.commandExecuted(QueryExecution.scala:78)\n",
      "\tat org.apache.spark.sql.Dataset.<init>(Dataset.scala:219)\n",
      "\tat org.apache.spark.sql.Dataset$.$anonfun$ofRows$2(Dataset.scala:99)\n",
      "\tat org.apache.spark.sql.SparkSession.withActive(SparkSession.scala:775)\n",
      "\tat org.apache.spark.sql.Dataset$.ofRows(Dataset.scala:96)\n",
      "\tat org.apache.spark.sql.SparkSession.$anonfun$sql$1(SparkSession.scala:618)\n",
      "\tat org.apache.spark.sql.SparkSession.withActive(SparkSession.scala:775)\n",
      "\tat org.apache.spark.sql.SparkSession.sql(SparkSession.scala:613)\n",
      "\tat sun.reflect.GeneratedMethodAccessor102.invoke(Unknown Source)\n",
      "\tat sun.reflect.DelegatingMethodAccessorImpl.invoke(DelegatingMethodAccessorImpl.java:43)\n",
      "\tat java.lang.reflect.Method.invoke(Method.java:498)\n",
      "\tat py4j.reflection.MethodInvoker.invoke(MethodInvoker.java:244)\n",
      "\tat py4j.reflection.ReflectionEngine.invoke(ReflectionEngine.java:357)\n",
      "\tat py4j.Gateway.invoke(Gateway.java:282)\n",
      "\tat py4j.commands.AbstractCommand.invokeMethod(AbstractCommand.java:132)\n",
      "\tat py4j.commands.CallCommand.execute(CallCommand.java:79)\n",
      "\tat py4j.ClientServerConnection.waitForCommands(ClientServerConnection.java:182)\n",
      "\tat py4j.ClientServerConnection.run(ClientServerConnection.java:106)\n",
      "\tat java.lang.Thread.run(Thread.java:750)\n",
      "23/09/01 17:51:31 ERROR CassandraConnectorConf: Unknown host 'p6_db_2'\n",
      "java.net.UnknownHostException: p6_db_2\n",
      "\tat java.net.InetAddress$CachedAddresses.get(InetAddress.java:764)\n",
      "\tat java.net.InetAddress.getAllByName0(InetAddress.java:1291)\n",
      "\tat java.net.InetAddress.getAllByName(InetAddress.java:1144)\n",
      "\tat java.net.InetAddress.getAllByName(InetAddress.java:1065)\n",
      "\tat java.net.InetAddress.getByName(InetAddress.java:1015)\n",
      "\tat com.datastax.spark.connector.cql.CassandraConnectorConf$.maybeResolveHostAndPort(CassandraConnectorConf.scala:346)\n",
      "\tat com.datastax.spark.connector.cql.CassandraConnectorConf$.$anonfun$getIpBasedContactInfoFromSparkConf$1(CassandraConnectorConf.scala:379)\n",
      "\tat scala.collection.TraversableLike.$anonfun$flatMap$1(TraversableLike.scala:293)\n",
      "\tat scala.collection.immutable.Set$Set3.foreach(Set.scala:233)\n",
      "\tat scala.collection.TraversableLike.flatMap(TraversableLike.scala:293)\n",
      "\tat scala.collection.TraversableLike.flatMap$(TraversableLike.scala:290)\n",
      "\tat scala.collection.AbstractTraversable.flatMap(Traversable.scala:108)\n",
      "\tat com.datastax.spark.connector.cql.CassandraConnectorConf$.getIpBasedContactInfoFromSparkConf(CassandraConnectorConf.scala:378)\n",
      "\tat com.datastax.spark.connector.cql.CassandraConnectorConf$.getContactInfoFromSparkConf(CassandraConnectorConf.scala:368)\n",
      "\tat com.datastax.spark.connector.cql.CassandraConnectorConf$.fromSparkConf(CassandraConnectorConf.scala:433)\n",
      "\tat com.datastax.spark.connector.cql.CassandraConnectorConf$.apply(CassandraConnectorConf.scala:358)\n",
      "\tat com.datastax.spark.connector.cql.CassandraConnector$.apply(CassandraConnector.scala:225)\n",
      "\tat org.apache.spark.sql.cassandra.SolrPredicateRules.apply(SolrPredicateRules.scala:57)\n",
      "\tat org.apache.spark.sql.cassandra.SolrPredicateRules.apply(SolrPredicateRules.scala:94)\n",
      "\tat com.datastax.spark.connector.datasource.CassandraScanBuilder.$anonfun$pushFilters$4(CassandraScanBuilder.scala:82)\n",
      "\tat scala.collection.LinearSeqOptimized.foldLeft(LinearSeqOptimized.scala:126)\n",
      "\tat scala.collection.LinearSeqOptimized.foldLeft$(LinearSeqOptimized.scala:122)\n",
      "\tat scala.collection.immutable.List.foldLeft(List.scala:91)\n",
      "\tat com.datastax.spark.connector.datasource.CassandraScanBuilder.pushFilters(CassandraScanBuilder.scala:81)\n",
      "\tat org.apache.spark.sql.execution.datasources.v2.PushDownUtils$.pushFilters(PushDownUtils.scala:67)\n",
      "\tat org.apache.spark.sql.execution.datasources.v2.V2ScanRelationPushDown$$anonfun$pushDownFilters$1.applyOrElse(V2ScanRelationPushDown.scala:60)\n",
      "\tat org.apache.spark.sql.execution.datasources.v2.V2ScanRelationPushDown$$anonfun$pushDownFilters$1.applyOrElse(V2ScanRelationPushDown.scala:47)\n",
      "\tat org.apache.spark.sql.catalyst.trees.TreeNode.$anonfun$transformDownWithPruning$1(TreeNode.scala:481)\n",
      "\tat org.apache.spark.sql.catalyst.trees.CurrentOrigin$.withOrigin(TreeNode.scala:82)\n",
      "\tat org.apache.spark.sql.catalyst.trees.TreeNode.transformDownWithPruning(TreeNode.scala:481)\n",
      "\tat org.apache.spark.sql.catalyst.plans.logical.LogicalPlan.org$apache$spark$sql$catalyst$plans$logical$AnalysisHelper$$super$transformDownWithPruning(LogicalPlan.scala:30)\n",
      "\tat org.apache.spark.sql.catalyst.plans.logical.AnalysisHelper.transformDownWithPruning(AnalysisHelper.scala:267)\n",
      "\tat org.apache.spark.sql.catalyst.plans.logical.AnalysisHelper.transformDownWithPruning$(AnalysisHelper.scala:263)\n",
      "\tat org.apache.spark.sql.catalyst.plans.logical.LogicalPlan.transformDownWithPruning(LogicalPlan.scala:30)\n",
      "\tat org.apache.spark.sql.catalyst.plans.logical.LogicalPlan.transformDownWithPruning(LogicalPlan.scala:30)\n",
      "\tat org.apache.spark.sql.catalyst.trees.TreeNode.transformDown(TreeNode.scala:457)\n",
      "\tat org.apache.spark.sql.catalyst.trees.TreeNode.transform(TreeNode.scala:425)\n",
      "\tat org.apache.spark.sql.execution.datasources.v2.V2ScanRelationPushDown$.pushDownFilters(V2ScanRelationPushDown.scala:47)\n",
      "\tat org.apache.spark.sql.execution.datasources.v2.V2ScanRelationPushDown$.apply(V2ScanRelationPushDown.scala:39)\n",
      "\tat org.apache.spark.sql.execution.datasources.v2.V2ScanRelationPushDown$.apply(V2ScanRelationPushDown.scala:35)\n",
      "\tat org.apache.spark.sql.catalyst.rules.RuleExecutor.$anonfun$execute$2(RuleExecutor.scala:211)\n",
      "\tat scala.collection.LinearSeqOptimized.foldLeft(LinearSeqOptimized.scala:126)\n",
      "\tat scala.collection.LinearSeqOptimized.foldLeft$(LinearSeqOptimized.scala:122)\n",
      "\tat scala.collection.immutable.List.foldLeft(List.scala:91)\n",
      "\tat org.apache.spark.sql.catalyst.rules.RuleExecutor.$anonfun$execute$1(RuleExecutor.scala:208)\n",
      "\tat org.apache.spark.sql.catalyst.rules.RuleExecutor.$anonfun$execute$1$adapted(RuleExecutor.scala:200)\n",
      "\tat scala.collection.immutable.List.foreach(List.scala:431)\n",
      "\tat org.apache.spark.sql.catalyst.rules.RuleExecutor.execute(RuleExecutor.scala:200)\n",
      "\tat org.apache.spark.sql.catalyst.rules.RuleExecutor.$anonfun$executeAndTrack$1(RuleExecutor.scala:179)\n",
      "\tat org.apache.spark.sql.catalyst.QueryPlanningTracker$.withTracker(QueryPlanningTracker.scala:88)\n",
      "\tat org.apache.spark.sql.catalyst.rules.RuleExecutor.executeAndTrack(RuleExecutor.scala:179)\n",
      "\tat org.apache.spark.sql.execution.QueryExecution.$anonfun$optimizedPlan$1(QueryExecution.scala:125)\n",
      "\tat org.apache.spark.sql.catalyst.QueryPlanningTracker.measurePhase(QueryPlanningTracker.scala:111)\n",
      "\tat org.apache.spark.sql.execution.QueryExecution.$anonfun$executePhase$1(QueryExecution.scala:183)\n",
      "\tat org.apache.spark.sql.SparkSession.withActive(SparkSession.scala:775)\n",
      "\tat org.apache.spark.sql.execution.QueryExecution.executePhase(QueryExecution.scala:183)\n",
      "\tat org.apache.spark.sql.execution.QueryExecution.optimizedPlan$lzycompute(QueryExecution.scala:121)\n",
      "\tat org.apache.spark.sql.execution.QueryExecution.optimizedPlan(QueryExecution.scala:117)\n",
      "\tat org.apache.spark.sql.execution.columnar.InMemoryRelation$.apply(InMemoryRelation.scala:349)\n",
      "\tat org.apache.spark.sql.execution.CacheManager.$anonfun$recacheByCondition$4(CacheManager.scala:229)\n",
      "\tat org.apache.spark.sql.SparkSession.withActive(SparkSession.scala:775)\n",
      "\tat org.apache.spark.sql.execution.CacheManager.$anonfun$recacheByCondition$3(CacheManager.scala:227)\n",
      "\tat org.apache.spark.sql.execution.CacheManager.$anonfun$recacheByCondition$3$adapted(CacheManager.scala:224)\n",
      "\tat scala.collection.Iterator.foreach(Iterator.scala:943)\n",
      "\tat scala.collection.Iterator.foreach$(Iterator.scala:943)\n",
      "\tat scala.collection.AbstractIterator.foreach(Iterator.scala:1431)\n",
      "\tat scala.collection.IterableLike.foreach(IterableLike.scala:74)\n",
      "\tat scala.collection.IterableLike.foreach$(IterableLike.scala:73)\n",
      "\tat scala.collection.AbstractIterable.foreach(Iterable.scala:56)\n",
      "\tat org.apache.spark.sql.execution.CacheManager.recacheByCondition(CacheManager.scala:224)\n",
      "\tat org.apache.spark.sql.execution.CacheManager.recacheByPlan(CacheManager.scala:210)\n",
      "\tat org.apache.spark.sql.internal.CatalogImpl.refreshTable(CatalogImpl.scala:556)\n",
      "\tat org.apache.spark.sql.execution.command.RefreshTableCommand.run(tables.scala:1333)\n",
      "\tat org.apache.spark.sql.execution.command.ExecutedCommandExec.sideEffectResult$lzycompute(commands.scala:75)\n",
      "\tat org.apache.spark.sql.execution.command.ExecutedCommandExec.sideEffectResult(commands.scala:73)\n",
      "\tat org.apache.spark.sql.execution.command.ExecutedCommandExec.executeCollect(commands.scala:84)\n",
      "\tat org.apache.spark.sql.execution.QueryExecution$$anonfun$eagerlyExecuteCommands$1.$anonfun$applyOrElse$1(QueryExecution.scala:97)\n",
      "\tat org.apache.spark.sql.execution.SQLExecution$.$anonfun$withNewExecutionId$5(SQLExecution.scala:103)\n",
      "\tat org.apache.spark.sql.execution.SQLExecution$.withSQLConfPropagated(SQLExecution.scala:163)\n",
      "\tat org.apache.spark.sql.execution.SQLExecution$.$anonfun$withNewExecutionId$1(SQLExecution.scala:90)\n",
      "\tat org.apache.spark.sql.SparkSession.withActive(SparkSession.scala:775)\n",
      "\tat org.apache.spark.sql.execution.SQLExecution$.withNewExecutionId(SQLExecution.scala:64)\n",
      "\tat org.apache.spark.sql.execution.QueryExecution$$anonfun$eagerlyExecuteCommands$1.applyOrElse(QueryExecution.scala:97)\n",
      "\tat org.apache.spark.sql.execution.QueryExecution$$anonfun$eagerlyExecuteCommands$1.applyOrElse(QueryExecution.scala:93)\n",
      "\tat org.apache.spark.sql.catalyst.trees.TreeNode.$anonfun$transformDownWithPruning$1(TreeNode.scala:481)\n",
      "\tat org.apache.spark.sql.catalyst.trees.CurrentOrigin$.withOrigin(TreeNode.scala:82)\n",
      "\tat org.apache.spark.sql.catalyst.trees.TreeNode.transformDownWithPruning(TreeNode.scala:481)\n",
      "\tat org.apache.spark.sql.catalyst.plans.logical.LogicalPlan.org$apache$spark$sql$catalyst$plans$logical$AnalysisHelper$$super$transformDownWithPruning(LogicalPlan.scala:30)\n",
      "\tat org.apache.spark.sql.catalyst.plans.logical.AnalysisHelper.transformDownWithPruning(AnalysisHelper.scala:267)\n",
      "\tat org.apache.spark.sql.catalyst.plans.logical.AnalysisHelper.transformDownWithPruning$(AnalysisHelper.scala:263)\n",
      "\tat org.apache.spark.sql.catalyst.plans.logical.LogicalPlan.transformDownWithPruning(LogicalPlan.scala:30)\n",
      "\tat org.apache.spark.sql.catalyst.plans.logical.LogicalPlan.transformDownWithPruning(LogicalPlan.scala:30)\n",
      "\tat org.apache.spark.sql.catalyst.trees.TreeNode.transformDown(TreeNode.scala:457)\n",
      "\tat org.apache.spark.sql.execution.QueryExecution.eagerlyExecuteCommands(QueryExecution.scala:93)\n",
      "\tat org.apache.spark.sql.execution.QueryExecution.commandExecuted$lzycompute(QueryExecution.scala:80)\n",
      "\tat org.apache.spark.sql.execution.QueryExecution.commandExecuted(QueryExecution.scala:78)\n",
      "\tat org.apache.spark.sql.Dataset.<init>(Dataset.scala:219)\n",
      "\tat org.apache.spark.sql.Dataset$.$anonfun$ofRows$2(Dataset.scala:99)\n",
      "\tat org.apache.spark.sql.SparkSession.withActive(SparkSession.scala:775)\n",
      "\tat org.apache.spark.sql.Dataset$.ofRows(Dataset.scala:96)\n",
      "\tat org.apache.spark.sql.SparkSession.$anonfun$sql$1(SparkSession.scala:618)\n",
      "\tat org.apache.spark.sql.SparkSession.withActive(SparkSession.scala:775)\n",
      "\tat org.apache.spark.sql.SparkSession.sql(SparkSession.scala:613)\n",
      "\tat sun.reflect.GeneratedMethodAccessor102.invoke(Unknown Source)\n",
      "\tat sun.reflect.DelegatingMethodAccessorImpl.invoke(DelegatingMethodAccessorImpl.java:43)\n",
      "\tat java.lang.reflect.Method.invoke(Method.java:498)\n",
      "\tat py4j.reflection.MethodInvoker.invoke(MethodInvoker.java:244)\n",
      "\tat py4j.reflection.ReflectionEngine.invoke(ReflectionEngine.java:357)\n",
      "\tat py4j.Gateway.invoke(Gateway.java:282)\n",
      "\tat py4j.commands.AbstractCommand.invokeMethod(AbstractCommand.java:132)\n",
      "\tat py4j.commands.CallCommand.execute(CallCommand.java:79)\n",
      "\tat py4j.ClientServerConnection.waitForCommands(ClientServerConnection.java:182)\n",
      "\tat py4j.ClientServerConnection.run(ClientServerConnection.java:106)\n",
      "\tat java.lang.Thread.run(Thread.java:750)\n",
      "[Stage 10:=========================================>               (8 + 3) / 11]\r"
     ]
    },
    {
     "name": "stdout",
     "output_type": "stream",
     "text": [
      "Post refersh count 1825\n"
     ]
    },
    {
     "name": "stderr",
     "output_type": "stream",
     "text": [
      "                                                                                \r"
     ]
    }
   ],
   "source": [
    "spark.sql(\"REFRESH TABLE weather2022\")\n",
    "count  = spark.sql(\"\"\"\n",
    "SELECT COUNT(record) AS count\n",
    "FROM weather2022\n",
    "\"\"\").collect()\n",
    "\n",
    "print(\"Post refersh count\", list(count[0])[0])"
   ]
  },
  {
   "cell_type": "code",
   "execution_count": 72,
   "metadata": {},
   "outputs": [],
   "source": [
    "spark.stop()\n",
    "session.shutdown()\n",
    "cluster.shutdown()\n"
   ]
  }
 ],
 "metadata": {
  "kernelspec": {
   "display_name": "Python 3 (ipykernel)",
   "language": "python",
   "name": "python3"
  },
  "language_info": {
   "codemirror_mode": {
    "name": "ipython",
    "version": 3
   },
   "file_extension": ".py",
   "mimetype": "text/x-python",
   "name": "python",
   "nbconvert_exporter": "python",
   "pygments_lexer": "ipython3",
   "version": "3.10.12"
  },
  "orig_nbformat": 4
 },
 "nbformat": 4,
 "nbformat_minor": 2
}
