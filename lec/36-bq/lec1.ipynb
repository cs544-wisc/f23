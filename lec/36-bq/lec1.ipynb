{
 "cells": [
  {
   "cell_type": "code",
   "execution_count": 1,
   "id": "faa7b513-3b84-41c0-b16e-31f451263626",
   "metadata": {},
   "outputs": [],
   "source": [
    "# pip3 install google-cloud-bigquery google-cloud-bigquery-storage pyarrow tqdm ipywidgets pandas matplotlib db-dtypes pandas-gbq"
   ]
  },
  {
   "cell_type": "code",
   "execution_count": 2,
   "id": "651f1c2a-3328-4172-95c6-8469db4b0326",
   "metadata": {},
   "outputs": [],
   "source": [
    "from google.cloud import bigquery"
   ]
  },
  {
   "cell_type": "code",
   "execution_count": 3,
   "id": "201c3abd-5fa3-40a9-91d8-320687106739",
   "metadata": {},
   "outputs": [],
   "source": [
    "bq = bigquery.Client()"
   ]
  },
  {
   "cell_type": "code",
   "execution_count": 11,
   "id": "b8aaf771-926d-4a2c-af70-01f26536ae8d",
   "metadata": {},
   "outputs": [
    {
     "name": "stdout",
     "output_type": "stream",
     "text": [
      "test1\n",
      "test2\n",
      "test3\n"
     ]
    }
   ],
   "source": [
    "# project => dataset => table\n",
    "for ds in bq.list_datasets(\"cs544-f23\"):\n",
    "    print(ds.dataset_id)"
   ]
  },
  {
   "cell_type": "code",
   "execution_count": 7,
   "id": "59221950-0607-4ae8-83b5-d61ed6461ec2",
   "metadata": {},
   "outputs": [
    {
     "data": {
      "text/plain": [
       "Dataset(DatasetReference('cs544-f23', 'test3'))"
      ]
     },
     "execution_count": 7,
     "metadata": {},
     "output_type": "execute_result"
    }
   ],
   "source": [
    "ds = bigquery.Dataset(\"cs544-f23.test3\")\n",
    "# ds.location = \"us-central1\"\n",
    "ds"
   ]
  },
  {
   "cell_type": "code",
   "execution_count": 10,
   "id": "6fe44d6d-b937-442e-9d04-f56e400a924d",
   "metadata": {},
   "outputs": [
    {
     "data": {
      "text/plain": [
       "Dataset(DatasetReference('cs544-f23', 'test3'))"
      ]
     },
     "execution_count": 10,
     "metadata": {},
     "output_type": "execute_result"
    }
   ],
   "source": [
    "bq.create_dataset(ds, exists_ok=True)"
   ]
  },
  {
   "cell_type": "code",
   "execution_count": 12,
   "id": "e1b7ff94-cf18-4847-a7cb-b0fa66cbaf2d",
   "metadata": {},
   "outputs": [
    {
     "name": "stdout",
     "output_type": "stream",
     "text": [
      "america_health_rankings\n",
      "austin_311\n",
      "austin_bikeshare\n",
      "austin_crime\n",
      "austin_incidents\n",
      "austin_waste\n",
      "baseball\n",
      "bbc_news\n",
      "bigqueryml_ncaa\n",
      "bitcoin_blockchain\n",
      "blackhole_database\n",
      "blockchain_analytics_ethereum_mainnet_us\n",
      "bls\n",
      "bls_qcew\n",
      "breathe\n",
      "broadstreet_adi\n",
      "catalonian_mobile_coverage\n",
      "catalonian_mobile_coverage_eu\n",
      "census_bureau_acs\n",
      "census_bureau_construction\n",
      "census_bureau_international\n",
      "census_bureau_usa\n",
      "census_opportunity_atlas\n",
      "census_utility\n",
      "cfpb_complaints\n",
      "chicago_crime\n",
      "chicago_taxi_trips\n",
      "clemson_dice\n",
      "cloud_storage_geo_index\n",
      "cms_codes\n",
      "cms_medicare\n",
      "cms_synthetic_patient_data_omop\n",
      "country_codes\n",
      "covid19_aha\n",
      "covid19_covidtracking\n",
      "covid19_ecdc\n",
      "covid19_ecdc_eu\n",
      "covid19_genome_sequence\n",
      "covid19_geotab_mobility_impact\n",
      "covid19_geotab_mobility_impact_eu\n",
      "covid19_google_mobility\n",
      "covid19_google_mobility_eu\n",
      "covid19_govt_response\n",
      "covid19_italy\n",
      "covid19_italy_eu\n",
      "covid19_jhu_csse\n",
      "covid19_jhu_csse_eu\n",
      "covid19_nyt\n",
      "covid19_open_data\n",
      "covid19_open_data_eu\n",
      "covid19_public_forecasts\n",
      "covid19_public_forecasts_asia_ne1\n",
      "covid19_rxrx19\n",
      "covid19_symptom_search\n",
      "covid19_tracking\n",
      "covid19_usafacts\n",
      "covid19_vaccination_access\n",
      "covid19_vaccination_search_insights\n",
      "covid19_weathersource_com\n",
      "crypto_band\n",
      "crypto_bitcoin\n",
      "crypto_bitcoin_cash\n",
      "crypto_dash\n",
      "crypto_dogecoin\n",
      "crypto_ethereum\n",
      "crypto_ethereum_classic\n",
      "crypto_iotex\n",
      "crypto_kusama\n",
      "crypto_litecoin\n",
      "crypto_near_mainnet_us\n",
      "crypto_polkadot\n",
      "crypto_polygon\n",
      "crypto_solana_mainnet_us\n",
      "crypto_tezos\n",
      "crypto_theta\n",
      "crypto_zcash\n",
      "crypto_zilliqa\n",
      "cymbal_investments\n",
      "dataflix_covid\n",
      "dataflix_traffic_safety\n",
      "deepmind_alphafold\n",
      "deps_dev_v1\n",
      "dimensions_ai_covid19\n",
      "ebi_chembl\n",
      "ebi_surechembl\n",
      "eclipse_megamovie\n",
      "epa_historical_air_quality\n",
      "ethereum_blockchain\n",
      "etsi_technical_standards\n",
      "faa\n",
      "fcc_political_ads\n",
      "fda_drug\n",
      "fda_food\n",
      "fdic_banks\n",
      "fec\n",
      "fhir_synthea\n",
      "ga4_obfuscated_sample_ecommerce\n",
      "gbif\n",
      "gdelt_hathitrustbooks\n",
      "gdelt_internetarchivebooks\n",
      "genomics_cannabis\n",
      "genomics_rice\n",
      "geo_census_blockgroups\n",
      "geo_census_tracts\n",
      "geo_international_ports\n",
      "geo_openstreetmap\n",
      "geo_us_boundaries\n",
      "geo_us_census_places\n",
      "geo_us_roads\n",
      "geo_whos_on_first\n",
      "ghcn_d\n",
      "ghcn_m\n",
      "github_repos\n",
      "gnomAD\n",
      "gnomAD_asiane1\n",
      "gnomAD_eu\n",
      "goog_blockchain_arbitrum_one_us\n",
      "goog_blockchain_avalanche_contract_chain_us\n",
      "goog_blockchain_cronos_mainnet_us\n",
      "goog_blockchain_ethereum_goerli_us\n",
      "goog_blockchain_ethereum_mainnet_us\n",
      "goog_blockchain_fantom_opera_us\n",
      "goog_blockchain_optimism_mainnet_us\n",
      "goog_blockchain_tron_mainnet_us\n",
      "google_ads\n",
      "google_ads_geo_mapping_asia_east1\n",
      "google_ads_geo_mapping_asia_east2\n",
      "google_ads_geo_mapping_asia_northeast1\n",
      "google_ads_geo_mapping_asia_northeast2\n",
      "google_ads_geo_mapping_asia_northeast3\n",
      "google_ads_geo_mapping_asia_south1\n",
      "google_ads_geo_mapping_asia_south2\n",
      "google_ads_geo_mapping_asia_southeast1\n",
      "google_ads_geo_mapping_asia_southeast2\n",
      "google_ads_geo_mapping_australia_southeast1\n",
      "google_ads_geo_mapping_australia_southeast2\n",
      "google_ads_geo_mapping_eu\n",
      "google_ads_geo_mapping_europe_central2\n",
      "google_ads_geo_mapping_europe_north1\n",
      "google_ads_geo_mapping_europe_southwest1\n",
      "google_ads_geo_mapping_europe_west1\n",
      "google_ads_geo_mapping_europe_west2\n",
      "google_ads_geo_mapping_europe_west3\n",
      "google_ads_geo_mapping_europe_west4\n",
      "google_ads_geo_mapping_europe_west6\n",
      "google_ads_geo_mapping_europe_west8\n",
      "google_ads_geo_mapping_europe_west9\n",
      "google_ads_geo_mapping_me_west1\n",
      "google_ads_geo_mapping_northamerica_northeast1\n",
      "google_ads_geo_mapping_northamerica_northeast2\n",
      "google_ads_geo_mapping_southamerica_east1\n",
      "google_ads_geo_mapping_southamerica_west1\n",
      "google_ads_geo_mapping_us\n",
      "google_ads_geo_mapping_us_central1\n",
      "google_ads_geo_mapping_us_east1\n",
      "google_ads_geo_mapping_us_east4\n",
      "google_ads_geo_mapping_us_east5\n",
      "google_ads_geo_mapping_us_south1\n",
      "google_ads_geo_mapping_us_west1\n",
      "google_ads_geo_mapping_us_west2\n",
      "google_ads_geo_mapping_us_west3\n",
      "google_ads_geo_mapping_us_west4\n",
      "google_ads_transparency_center\n",
      "google_analytics_sample\n",
      "google_books_ngrams_2020\n",
      "google_cfe\n",
      "google_cloud_release_notes\n",
      "google_dei\n",
      "google_patents_research\n",
      "google_political_ads\n",
      "google_trends\n",
      "grid_ac\n",
      "hacker_news\n",
      "hud_zipcode_crosswalk\n",
      "human_genome_variants\n",
      "human_variant_annotation\n",
      "idc_current\n",
      "idc_current_clinical\n",
      "idc_v1\n",
      "idc_v10\n",
      "idc_v11\n",
      "idc_v11_clinical\n",
      "idc_v12\n",
      "idc_v12_clinical\n",
      "idc_v13\n",
      "idc_v13_clinical\n",
      "idc_v14\n",
      "idc_v14_clinical\n",
      "idc_v15\n",
      "idc_v15_clinical\n",
      "idc_v16\n",
      "idc_v16_clinical\n",
      "idc_v2\n",
      "idc_v3\n",
      "idc_v4\n",
      "idc_v5\n",
      "idc_v6\n",
      "idc_v7\n",
      "idc_v8\n",
      "idc_v9\n",
      "imdb\n",
      "immune_epitope_db\n",
      "iowa_liquor_sales\n",
      "iowa_liquor_sales_forecasting\n",
      "irs_990\n",
      "labeled_patents\n",
      "libraries_io\n",
      "listenbrainz\n",
      "london_bicycles\n",
      "london_crime\n",
      "london_fire_brigade\n",
      "marec\n",
      "medicare\n",
      "ml_datasets\n",
      "ml_datasets_uscentral1\n",
      "modis_terra_net_primary_production\n",
      "moon_phases\n",
      "multilingual_spoken_words_corpus\n",
      "nasa_wildfire\n",
      "ncaa_basketball\n",
      "nces_ipeds\n",
      "new_york\n",
      "new_york_311\n",
      "new_york_citibike\n",
      "new_york_mv_collisions\n",
      "new_york_subway\n",
      "new_york_taxi_trips\n",
      "new_york_trees\n",
      "nhtsa_traffic_fatalities\n",
      "nih_gudid\n",
      "nih_sequence_read\n",
      "nlm_rxnorm\n",
      "noaa_global_forecast_system\n",
      "noaa_goes16\n",
      "noaa_goes17\n",
      "noaa_gsod\n",
      "noaa_historic_severe_storms\n",
      "noaa_hurricanes\n",
      "noaa_icoads\n",
      "noaa_lightning\n",
      "noaa_nwm\n",
      "noaa_passive_acoustic_index\n",
      "noaa_passive_bioacoustic\n",
      "noaa_pifsc_metadata\n",
      "noaa_preliminary_severe_storms\n",
      "noaa_significant_earthquakes\n",
      "noaa_tsunami\n",
      "nppes\n",
      "nrel_nsrdb\n",
      "open_buildings\n",
      "open_images\n",
      "open_targets_genetics\n",
      "open_targets_platform\n",
      "openaq\n",
      "patents\n",
      "patents_cpc\n",
      "patents_dsep\n",
      "patents_view\n",
      "persistent_udfs\n",
      "properati_properties_ar\n",
      "properati_properties_br\n",
      "properati_properties_cl\n",
      "properati_properties_co\n",
      "properati_properties_mx\n",
      "properati_properties_pe\n",
      "properati_properties_uy\n",
      "pypi\n",
      "samples\n",
      "san_francisco\n",
      "san_francisco_311\n",
      "san_francisco_bikeshare\n",
      "san_francisco_film_locations\n",
      "san_francisco_neighborhoods\n",
      "san_francisco_sffd_service_calls\n",
      "san_francisco_sfpd_incidents\n",
      "san_francisco_transit_muni\n",
      "san_francisco_trees\n",
      "sdoh_bea_cainc30\n",
      "sdoh_cdc_wonder_natality\n",
      "sdoh_cms_dual_eligible_enrollment\n",
      "sdoh_hrsa_shortage_areas\n",
      "sdoh_hud_housing\n",
      "sdoh_hud_pit_homelessness\n",
      "sdoh_snap_enrollment\n",
      "sec_quarterly_financials\n",
      "stackoverflow\n",
      "sunroof_solar\n",
      "the_general_index\n",
      "the_met\n",
      "thelook_ecommerce\n",
      "ucb_fung_patent_data\n",
      "umiami_lincs\n",
      "un_sdg\n",
      "us_res_real_est_data\n",
      "usa_contagious_disease\n",
      "usa_names\n",
      "usda_nass_agriculture\n",
      "usfs_fia\n",
      "usitc_investigations\n",
      "uspto_oce_assignment\n",
      "uspto_oce_cancer\n",
      "uspto_oce_claims\n",
      "uspto_oce_litigation\n",
      "uspto_oce_office_actions\n",
      "uspto_oce_pair\n",
      "uspto_ptab\n",
      "utility_eu\n",
      "utility_us\n",
      "wikipedia\n",
      "wise_all_sky_data_release\n",
      "world_bank_global_population\n",
      "world_bank_health_population\n",
      "world_bank_intl_debt\n",
      "world_bank_intl_education\n",
      "world_bank_wdi\n",
      "worldbank_wdi\n",
      "worldpop\n"
     ]
    }
   ],
   "source": [
    "for ds in bq.list_datasets(\"bigquery-public-data\"):\n",
    "    print(ds.dataset_id)"
   ]
  },
  {
   "cell_type": "code",
   "execution_count": 13,
   "id": "e2ff9160-0506-4f45-a6b5-3dccc9b568da",
   "metadata": {},
   "outputs": [
    {
     "name": "stdout",
     "output_type": "stream",
     "text": [
      "commits\n",
      "contents\n",
      "files\n",
      "languages\n",
      "licenses\n",
      "sample_commits\n",
      "sample_contents\n",
      "sample_files\n",
      "sample_repos\n"
     ]
    }
   ],
   "source": [
    "for t in bq.list_tables(\"bigquery-public-data.github_repos\"):\n",
    "    print(t.table_id)"
   ]
  },
  {
   "cell_type": "code",
   "execution_count": 14,
   "id": "d37c5161-ce5e-4615-9111-d876286602c6",
   "metadata": {},
   "outputs": [],
   "source": [
    "%load_ext google.cloud.bigquery"
   ]
  },
  {
   "cell_type": "code",
   "execution_count": 15,
   "id": "05426cee-01d5-4074-9864-bd6d66c7d3b5",
   "metadata": {},
   "outputs": [
    {
     "data": {
      "application/vnd.jupyter.widget-view+json": {
       "model_id": "e042e642ab3c43568baf49e902dfc91c",
       "version_major": 2,
       "version_minor": 0
      },
      "text/plain": [
       "Query is running:   0%|          |"
      ]
     },
     "metadata": {},
     "output_type": "display_data"
    },
    {
     "data": {
      "application/vnd.jupyter.widget-view+json": {
       "model_id": "467ff1473520405aaf8a049f5d0c0621",
       "version_major": 2,
       "version_minor": 0
      },
      "text/plain": [
       "Downloading:   0%|          |"
      ]
     },
     "metadata": {},
     "output_type": "display_data"
    },
    {
     "data": {
      "text/html": [
       "<div>\n",
       "<style scoped>\n",
       "    .dataframe tbody tr th:only-of-type {\n",
       "        vertical-align: middle;\n",
       "    }\n",
       "\n",
       "    .dataframe tbody tr th {\n",
       "        vertical-align: top;\n",
       "    }\n",
       "\n",
       "    .dataframe thead th {\n",
       "        text-align: right;\n",
       "    }\n",
       "</style>\n",
       "<table border=\"1\" class=\"dataframe\">\n",
       "  <thead>\n",
       "    <tr style=\"text-align: right;\">\n",
       "      <th></th>\n",
       "      <th>repo_name</th>\n",
       "      <th>language</th>\n",
       "    </tr>\n",
       "  </thead>\n",
       "  <tbody>\n",
       "    <tr>\n",
       "      <th>0</th>\n",
       "      <td>lemi136/puntovent</td>\n",
       "      <td>[{'name': 'C', 'bytes': 80}]</td>\n",
       "    </tr>\n",
       "    <tr>\n",
       "      <th>1</th>\n",
       "      <td>taxigps/nctool</td>\n",
       "      <td>[{'name': 'C', 'bytes': 4461}]</td>\n",
       "    </tr>\n",
       "    <tr>\n",
       "      <th>2</th>\n",
       "      <td>ahy1/strbuf</td>\n",
       "      <td>[{'name': 'C', 'bytes': 5573}]</td>\n",
       "    </tr>\n",
       "    <tr>\n",
       "      <th>3</th>\n",
       "      <td>nleiten/mod_rpaf-ng</td>\n",
       "      <td>[{'name': 'C', 'bytes': 30330}]</td>\n",
       "    </tr>\n",
       "    <tr>\n",
       "      <th>4</th>\n",
       "      <td>kmcallister/alameda</td>\n",
       "      <td>[{'name': 'C', 'bytes': 17077}]</td>\n",
       "    </tr>\n",
       "    <tr>\n",
       "      <th>5</th>\n",
       "      <td>TianYJ1/Snake</td>\n",
       "      <td>[{'name': 'C', 'bytes': 10381}]</td>\n",
       "    </tr>\n",
       "    <tr>\n",
       "      <th>6</th>\n",
       "      <td>doctorfree/Lds</td>\n",
       "      <td>[{'name': 'C', 'bytes': 56413}]</td>\n",
       "    </tr>\n",
       "    <tr>\n",
       "      <th>7</th>\n",
       "      <td>SumiMakito/ReinaJNIDemo</td>\n",
       "      <td>[{'name': 'C', 'bytes': 7444}]</td>\n",
       "    </tr>\n",
       "    <tr>\n",
       "      <th>8</th>\n",
       "      <td>serprex/rainbeam</td>\n",
       "      <td>[{'name': 'C', 'bytes': 1964}]</td>\n",
       "    </tr>\n",
       "    <tr>\n",
       "      <th>9</th>\n",
       "      <td>pdigiglio/oracolo</td>\n",
       "      <td>[{'name': 'C', 'bytes': 1966}]</td>\n",
       "    </tr>\n",
       "  </tbody>\n",
       "</table>\n",
       "</div>"
      ],
      "text/plain": [
       "                 repo_name                         language\n",
       "0        lemi136/puntovent     [{'name': 'C', 'bytes': 80}]\n",
       "1           taxigps/nctool   [{'name': 'C', 'bytes': 4461}]\n",
       "2              ahy1/strbuf   [{'name': 'C', 'bytes': 5573}]\n",
       "3      nleiten/mod_rpaf-ng  [{'name': 'C', 'bytes': 30330}]\n",
       "4      kmcallister/alameda  [{'name': 'C', 'bytes': 17077}]\n",
       "5            TianYJ1/Snake  [{'name': 'C', 'bytes': 10381}]\n",
       "6           doctorfree/Lds  [{'name': 'C', 'bytes': 56413}]\n",
       "7  SumiMakito/ReinaJNIDemo   [{'name': 'C', 'bytes': 7444}]\n",
       "8         serprex/rainbeam   [{'name': 'C', 'bytes': 1964}]\n",
       "9        pdigiglio/oracolo   [{'name': 'C', 'bytes': 1966}]"
      ]
     },
     "execution_count": 15,
     "metadata": {},
     "output_type": "execute_result"
    }
   ],
   "source": [
    "%%bigquery\n",
    "SELECT *\n",
    "FROM `bigquery-public-data.github_repos.languages`\n",
    "LIMIT 10"
   ]
  },
  {
   "cell_type": "code",
   "execution_count": 16,
   "id": "f90a56bc-77f6-4a8a-935d-070efc18e427",
   "metadata": {},
   "outputs": [
    {
     "data": {
      "application/vnd.jupyter.widget-view+json": {
       "model_id": "ab919d4e378c44cbadcdb3193f9cc1f0",
       "version_major": 2,
       "version_minor": 0
      },
      "text/plain": [
       "Query is running:   0%|          |"
      ]
     },
     "metadata": {},
     "output_type": "display_data"
    },
    {
     "data": {
      "application/vnd.jupyter.widget-view+json": {
       "model_id": "eae1a4155a594cf19b8bbc593b2824b8",
       "version_major": 2,
       "version_minor": 0
      },
      "text/plain": [
       "Downloading:   0%|          |"
      ]
     },
     "metadata": {},
     "output_type": "display_data"
    }
   ],
   "source": [
    "%%bigquery df\n",
    "SELECT *\n",
    "FROM `bigquery-public-data.github_repos.languages`\n",
    "LIMIT 10"
   ]
  },
  {
   "cell_type": "code",
   "execution_count": 17,
   "id": "8aca981c-2c5f-4c63-a344-a8b19e53f08f",
   "metadata": {},
   "outputs": [
    {
     "data": {
      "text/html": [
       "<div>\n",
       "<style scoped>\n",
       "    .dataframe tbody tr th:only-of-type {\n",
       "        vertical-align: middle;\n",
       "    }\n",
       "\n",
       "    .dataframe tbody tr th {\n",
       "        vertical-align: top;\n",
       "    }\n",
       "\n",
       "    .dataframe thead th {\n",
       "        text-align: right;\n",
       "    }\n",
       "</style>\n",
       "<table border=\"1\" class=\"dataframe\">\n",
       "  <thead>\n",
       "    <tr style=\"text-align: right;\">\n",
       "      <th></th>\n",
       "      <th>repo_name</th>\n",
       "      <th>language</th>\n",
       "    </tr>\n",
       "  </thead>\n",
       "  <tbody>\n",
       "    <tr>\n",
       "      <th>0</th>\n",
       "      <td>lemi136/puntovent</td>\n",
       "      <td>[{'name': 'C', 'bytes': 80}]</td>\n",
       "    </tr>\n",
       "    <tr>\n",
       "      <th>1</th>\n",
       "      <td>taxigps/nctool</td>\n",
       "      <td>[{'name': 'C', 'bytes': 4461}]</td>\n",
       "    </tr>\n",
       "    <tr>\n",
       "      <th>2</th>\n",
       "      <td>ahy1/strbuf</td>\n",
       "      <td>[{'name': 'C', 'bytes': 5573}]</td>\n",
       "    </tr>\n",
       "    <tr>\n",
       "      <th>3</th>\n",
       "      <td>nleiten/mod_rpaf-ng</td>\n",
       "      <td>[{'name': 'C', 'bytes': 30330}]</td>\n",
       "    </tr>\n",
       "    <tr>\n",
       "      <th>4</th>\n",
       "      <td>kmcallister/alameda</td>\n",
       "      <td>[{'name': 'C', 'bytes': 17077}]</td>\n",
       "    </tr>\n",
       "    <tr>\n",
       "      <th>5</th>\n",
       "      <td>TianYJ1/Snake</td>\n",
       "      <td>[{'name': 'C', 'bytes': 10381}]</td>\n",
       "    </tr>\n",
       "    <tr>\n",
       "      <th>6</th>\n",
       "      <td>doctorfree/Lds</td>\n",
       "      <td>[{'name': 'C', 'bytes': 56413}]</td>\n",
       "    </tr>\n",
       "    <tr>\n",
       "      <th>7</th>\n",
       "      <td>SumiMakito/ReinaJNIDemo</td>\n",
       "      <td>[{'name': 'C', 'bytes': 7444}]</td>\n",
       "    </tr>\n",
       "    <tr>\n",
       "      <th>8</th>\n",
       "      <td>serprex/rainbeam</td>\n",
       "      <td>[{'name': 'C', 'bytes': 1964}]</td>\n",
       "    </tr>\n",
       "    <tr>\n",
       "      <th>9</th>\n",
       "      <td>pdigiglio/oracolo</td>\n",
       "      <td>[{'name': 'C', 'bytes': 1966}]</td>\n",
       "    </tr>\n",
       "  </tbody>\n",
       "</table>\n",
       "</div>"
      ],
      "text/plain": [
       "                 repo_name                         language\n",
       "0        lemi136/puntovent     [{'name': 'C', 'bytes': 80}]\n",
       "1           taxigps/nctool   [{'name': 'C', 'bytes': 4461}]\n",
       "2              ahy1/strbuf   [{'name': 'C', 'bytes': 5573}]\n",
       "3      nleiten/mod_rpaf-ng  [{'name': 'C', 'bytes': 30330}]\n",
       "4      kmcallister/alameda  [{'name': 'C', 'bytes': 17077}]\n",
       "5            TianYJ1/Snake  [{'name': 'C', 'bytes': 10381}]\n",
       "6           doctorfree/Lds  [{'name': 'C', 'bytes': 56413}]\n",
       "7  SumiMakito/ReinaJNIDemo   [{'name': 'C', 'bytes': 7444}]\n",
       "8         serprex/rainbeam   [{'name': 'C', 'bytes': 1964}]\n",
       "9        pdigiglio/oracolo   [{'name': 'C', 'bytes': 1966}]"
      ]
     },
     "execution_count": 17,
     "metadata": {},
     "output_type": "execute_result"
    }
   ],
   "source": [
    "df"
   ]
  },
  {
   "cell_type": "code",
   "execution_count": 28,
   "id": "c27bd569-4f7b-450e-8580-613f714b1f4c",
   "metadata": {},
   "outputs": [],
   "source": [
    "no_cache = bigquery.QueryJobConfig(use_query_cache=False)"
   ]
  },
  {
   "cell_type": "code",
   "execution_count": 29,
   "id": "b9b017c5-b647-4f1b-8bc5-56ec1c6520d1",
   "metadata": {},
   "outputs": [],
   "source": [
    "q = bq.query(\"\"\"\n",
    "SELECT *\n",
    "FROM `bigquery-public-data.github_repos.languages`\n",
    "LIMIT 10\n",
    "\"\"\", job_config=no_cache)"
   ]
  },
  {
   "cell_type": "code",
   "execution_count": 30,
   "id": "f3e9a076-a0e1-409f-8e20-204c9c044d47",
   "metadata": {},
   "outputs": [
    {
     "data": {
      "text/html": [
       "<div>\n",
       "<style scoped>\n",
       "    .dataframe tbody tr th:only-of-type {\n",
       "        vertical-align: middle;\n",
       "    }\n",
       "\n",
       "    .dataframe tbody tr th {\n",
       "        vertical-align: top;\n",
       "    }\n",
       "\n",
       "    .dataframe thead th {\n",
       "        text-align: right;\n",
       "    }\n",
       "</style>\n",
       "<table border=\"1\" class=\"dataframe\">\n",
       "  <thead>\n",
       "    <tr style=\"text-align: right;\">\n",
       "      <th></th>\n",
       "      <th>repo_name</th>\n",
       "      <th>language</th>\n",
       "    </tr>\n",
       "  </thead>\n",
       "  <tbody>\n",
       "    <tr>\n",
       "      <th>0</th>\n",
       "      <td>lemi136/puntovent</td>\n",
       "      <td>[{'name': 'C', 'bytes': 80}]</td>\n",
       "    </tr>\n",
       "    <tr>\n",
       "      <th>1</th>\n",
       "      <td>taxigps/nctool</td>\n",
       "      <td>[{'name': 'C', 'bytes': 4461}]</td>\n",
       "    </tr>\n",
       "    <tr>\n",
       "      <th>2</th>\n",
       "      <td>ahy1/strbuf</td>\n",
       "      <td>[{'name': 'C', 'bytes': 5573}]</td>\n",
       "    </tr>\n",
       "    <tr>\n",
       "      <th>3</th>\n",
       "      <td>nleiten/mod_rpaf-ng</td>\n",
       "      <td>[{'name': 'C', 'bytes': 30330}]</td>\n",
       "    </tr>\n",
       "    <tr>\n",
       "      <th>4</th>\n",
       "      <td>kmcallister/alameda</td>\n",
       "      <td>[{'name': 'C', 'bytes': 17077}]</td>\n",
       "    </tr>\n",
       "    <tr>\n",
       "      <th>5</th>\n",
       "      <td>TianYJ1/Snake</td>\n",
       "      <td>[{'name': 'C', 'bytes': 10381}]</td>\n",
       "    </tr>\n",
       "    <tr>\n",
       "      <th>6</th>\n",
       "      <td>doctorfree/Lds</td>\n",
       "      <td>[{'name': 'C', 'bytes': 56413}]</td>\n",
       "    </tr>\n",
       "    <tr>\n",
       "      <th>7</th>\n",
       "      <td>SumiMakito/ReinaJNIDemo</td>\n",
       "      <td>[{'name': 'C', 'bytes': 7444}]</td>\n",
       "    </tr>\n",
       "    <tr>\n",
       "      <th>8</th>\n",
       "      <td>serprex/rainbeam</td>\n",
       "      <td>[{'name': 'C', 'bytes': 1964}]</td>\n",
       "    </tr>\n",
       "    <tr>\n",
       "      <th>9</th>\n",
       "      <td>pdigiglio/oracolo</td>\n",
       "      <td>[{'name': 'C', 'bytes': 1966}]</td>\n",
       "    </tr>\n",
       "  </tbody>\n",
       "</table>\n",
       "</div>"
      ],
      "text/plain": [
       "                 repo_name                         language\n",
       "0        lemi136/puntovent     [{'name': 'C', 'bytes': 80}]\n",
       "1           taxigps/nctool   [{'name': 'C', 'bytes': 4461}]\n",
       "2              ahy1/strbuf   [{'name': 'C', 'bytes': 5573}]\n",
       "3      nleiten/mod_rpaf-ng  [{'name': 'C', 'bytes': 30330}]\n",
       "4      kmcallister/alameda  [{'name': 'C', 'bytes': 17077}]\n",
       "5            TianYJ1/Snake  [{'name': 'C', 'bytes': 10381}]\n",
       "6           doctorfree/Lds  [{'name': 'C', 'bytes': 56413}]\n",
       "7  SumiMakito/ReinaJNIDemo   [{'name': 'C', 'bytes': 7444}]\n",
       "8         serprex/rainbeam   [{'name': 'C', 'bytes': 1964}]\n",
       "9        pdigiglio/oracolo   [{'name': 'C', 'bytes': 1966}]"
      ]
     },
     "execution_count": 30,
     "metadata": {},
     "output_type": "execute_result"
    }
   ],
   "source": [
    "df = q.to_dataframe()\n",
    "df"
   ]
  },
  {
   "cell_type": "code",
   "execution_count": 31,
   "id": "dbf9498a-df07-489d-8568-23b675cadd5e",
   "metadata": {},
   "outputs": [
    {
     "data": {
      "text/plain": [
       "194.93627738952637"
      ]
     },
     "execution_count": 31,
     "metadata": {},
     "output_type": "execute_result"
    }
   ],
   "source": [
    "q.total_bytes_processed / 1024**2 # MB"
   ]
  },
  {
   "cell_type": "code",
   "execution_count": 32,
   "id": "e8c328f5-4168-4844-aca5-def618a7d89b",
   "metadata": {},
   "outputs": [
    {
     "data": {
      "text/plain": [
       "195.0"
      ]
     },
     "execution_count": 32,
     "metadata": {},
     "output_type": "execute_result"
    }
   ],
   "source": [
    "q.total_bytes_billed / 1024**2 # MB"
   ]
  },
  {
   "cell_type": "code",
   "execution_count": null,
   "id": "294ccb2b-06d9-4e97-84d2-1e477fee9bc4",
   "metadata": {},
   "outputs": [],
   "source": [
    "# how many times can we do this query for free (per month)?"
   ]
  },
  {
   "cell_type": "code",
   "execution_count": 33,
   "id": "ee342720-eabe-4cd7-a0b0-8cb27cf0c7e8",
   "metadata": {},
   "outputs": [
    {
     "data": {
      "text/plain": [
       "5377.3128205128205"
      ]
     },
     "execution_count": 33,
     "metadata": {},
     "output_type": "execute_result"
    }
   ],
   "source": [
    "free_tier = 1024**4 # 1 TB\n",
    "free_tier / q.total_bytes_billed"
   ]
  },
  {
   "cell_type": "code",
   "execution_count": null,
   "id": "5da82f75-7a22-4d90-87a2-6b01ae5309ad",
   "metadata": {},
   "outputs": [],
   "source": [
    "# how much does it cost in Tokyo after we leave the free tier?"
   ]
  },
  {
   "cell_type": "code",
   "execution_count": 34,
   "id": "61f9dd35-1210-4671-b590-2d2197ed0cb4",
   "metadata": {},
   "outputs": [
    {
     "data": {
      "text/plain": [
       "0.0013947486877441406"
      ]
     },
     "execution_count": 34,
     "metadata": {},
     "output_type": "execute_result"
    }
   ],
   "source": [
    "tokyo_cost = 7.5 # per TB\n",
    "q.total_bytes_billed / 1024**4 * tokyo_cost"
   ]
  },
  {
   "cell_type": "code",
   "execution_count": 35,
   "id": "85b40eff-1893-49bb-a819-7c0eab86e5f3",
   "metadata": {},
   "outputs": [],
   "source": [
    "# cost factors:\n",
    "# 1. pay for storage space (in addition to queries)\n",
    "# 2. round up to nearest 1 MB (per query)\n",
    "# 3. min of 10 MB (per query)"
   ]
  },
  {
   "cell_type": "code",
   "execution_count": 37,
   "id": "5cf89445-aaeb-46c7-81fa-ca7d3bad5bd3",
   "metadata": {},
   "outputs": [
    {
     "data": {
      "application/vnd.jupyter.widget-view+json": {
       "model_id": "fc5f1d6d6e0e4f6cabdae7a14e9aa0ce",
       "version_major": 2,
       "version_minor": 0
      },
      "text/plain": [
       "Query is running:   0%|          |"
      ]
     },
     "metadata": {},
     "output_type": "display_data"
    },
    {
     "data": {
      "application/vnd.jupyter.widget-view+json": {
       "model_id": "3ab98d40c91d4c8093ad66dba73f7731",
       "version_major": 2,
       "version_minor": 0
      },
      "text/plain": [
       "Downloading:   0%|          |"
      ]
     },
     "metadata": {},
     "output_type": "display_data"
    },
    {
     "data": {
      "text/html": [
       "<div>\n",
       "<style scoped>\n",
       "    .dataframe tbody tr th:only-of-type {\n",
       "        vertical-align: middle;\n",
       "    }\n",
       "\n",
       "    .dataframe tbody tr th {\n",
       "        vertical-align: top;\n",
       "    }\n",
       "\n",
       "    .dataframe thead th {\n",
       "        text-align: right;\n",
       "    }\n",
       "</style>\n",
       "<table border=\"1\" class=\"dataframe\">\n",
       "  <thead>\n",
       "    <tr style=\"text-align: right;\">\n",
       "      <th></th>\n",
       "      <th>repo_name</th>\n",
       "      <th>language</th>\n",
       "    </tr>\n",
       "  </thead>\n",
       "  <tbody>\n",
       "    <tr>\n",
       "      <th>0</th>\n",
       "      <td>open-lambda/open-lambda</td>\n",
       "      <td>[{'name': 'C', 'bytes': 31159}, {'name': 'Dock...</td>\n",
       "    </tr>\n",
       "    <tr>\n",
       "      <th>1</th>\n",
       "      <td>open-lambda/load-balancer</td>\n",
       "      <td>[{'name': 'C', 'bytes': 210}, {'name': 'Go', '...</td>\n",
       "    </tr>\n",
       "  </tbody>\n",
       "</table>\n",
       "</div>"
      ],
      "text/plain": [
       "                   repo_name  \\\n",
       "0    open-lambda/open-lambda   \n",
       "1  open-lambda/load-balancer   \n",
       "\n",
       "                                            language  \n",
       "0  [{'name': 'C', 'bytes': 31159}, {'name': 'Dock...  \n",
       "1  [{'name': 'C', 'bytes': 210}, {'name': 'Go', '...  "
      ]
     },
     "execution_count": 37,
     "metadata": {},
     "output_type": "execute_result"
    }
   ],
   "source": [
    "%%bigquery\n",
    "SELECT *\n",
    "FROM `bigquery-public-data.github_repos.languages`\n",
    "WHERE repo_name LIKE 'open-lambda/%'\n",
    "LIMIT 10"
   ]
  },
  {
   "cell_type": "code",
   "execution_count": null,
   "id": "ce0e255c-de25-4c86-ae2c-e157423d2afc",
   "metadata": {},
   "outputs": [],
   "source": []
  }
 ],
 "metadata": {
  "kernelspec": {
   "display_name": "Python 3 (ipykernel)",
   "language": "python",
   "name": "python3"
  },
  "language_info": {
   "codemirror_mode": {
    "name": "ipython",
    "version": 3
   },
   "file_extension": ".py",
   "mimetype": "text/x-python",
   "name": "python",
   "nbconvert_exporter": "python",
   "pygments_lexer": "ipython3",
   "version": "3.10.12"
  }
 },
 "nbformat": 4,
 "nbformat_minor": 5
}
