{
 "cells": [
  {
   "cell_type": "code",
   "execution_count": 1,
   "id": "2f5c6cce-89bb-4eb8-811e-b0c36201a8ef",
   "metadata": {},
   "outputs": [],
   "source": [
    "# pip3 install google-cloud-bigquery google-cloud-bigquery-storage pyarrow tqdm ipywidgets pandas matplotlib db-dtypes pandas-gbq"
   ]
  },
  {
   "cell_type": "code",
   "execution_count": 2,
   "id": "8236fd51-a976-46a8-9fcc-e6ab5c91fe9a",
   "metadata": {},
   "outputs": [],
   "source": [
    "from google.cloud import bigquery"
   ]
  },
  {
   "cell_type": "code",
   "execution_count": 3,
   "id": "8c3ffacf-d53d-4639-b9bb-48f114d2e35e",
   "metadata": {},
   "outputs": [],
   "source": [
    "bq = bigquery.Client()"
   ]
  },
  {
   "cell_type": "code",
   "execution_count": null,
   "id": "448bfe7d-f121-41dd-b943-fc124f37f42d",
   "metadata": {},
   "outputs": [],
   "source": [
    "# project => dataset => table"
   ]
  },
  {
   "cell_type": "code",
   "execution_count": 4,
   "id": "152992be-187b-4c67-a2cb-6544f3304b70",
   "metadata": {},
   "outputs": [],
   "source": [
    "# what datasets do I have in my project?"
   ]
  },
  {
   "cell_type": "code",
   "execution_count": 6,
   "id": "0a15cebe-8f01-4081-8cce-448585adeaf0",
   "metadata": {},
   "outputs": [
    {
     "name": "stdout",
     "output_type": "stream",
     "text": [
      "test1\n",
      "test2\n",
      "test3\n"
     ]
    }
   ],
   "source": [
    "for ds in bq.list_datasets(\"cs544-f23\"):\n",
    "    print(ds.dataset_id)"
   ]
  },
  {
   "cell_type": "code",
   "execution_count": 9,
   "id": "327fe84d-7318-423b-886e-c6d994cb4bb8",
   "metadata": {},
   "outputs": [
    {
     "data": {
      "text/plain": [
       "Dataset(DatasetReference('cs544-f23', 'test4'))"
      ]
     },
     "execution_count": 9,
     "metadata": {},
     "output_type": "execute_result"
    }
   ],
   "source": [
    "ds = bigquery.Dataset(\"cs544-f23.test4\")\n",
    "# ds.location = \"us-central1\"\n",
    "ds"
   ]
  },
  {
   "cell_type": "code",
   "execution_count": 13,
   "id": "4d45108b-86de-492a-a38a-de0aa7876625",
   "metadata": {},
   "outputs": [
    {
     "data": {
      "text/plain": [
       "Dataset(DatasetReference('cs544-f23', 'test4'))"
      ]
     },
     "execution_count": 13,
     "metadata": {},
     "output_type": "execute_result"
    }
   ],
   "source": [
    "bq.create_dataset(ds, exists_ok=True)"
   ]
  },
  {
   "cell_type": "code",
   "execution_count": 15,
   "id": "aa1d22d3-c07e-4178-bce1-09ad1ab19d66",
   "metadata": {},
   "outputs": [
    {
     "name": "stdout",
     "output_type": "stream",
     "text": [
      "america_health_rankings\n",
      "austin_311\n",
      "austin_bikeshare\n",
      "austin_crime\n",
      "austin_incidents\n",
      "austin_waste\n",
      "baseball\n",
      "bbc_news\n",
      "bigqueryml_ncaa\n",
      "bitcoin_blockchain\n",
      "blackhole_database\n",
      "blockchain_analytics_ethereum_mainnet_us\n",
      "bls\n",
      "bls_qcew\n",
      "breathe\n",
      "broadstreet_adi\n",
      "catalonian_mobile_coverage\n",
      "catalonian_mobile_coverage_eu\n",
      "census_bureau_acs\n",
      "census_bureau_construction\n",
      "census_bureau_international\n",
      "census_bureau_usa\n",
      "census_opportunity_atlas\n",
      "census_utility\n",
      "cfpb_complaints\n",
      "chicago_crime\n",
      "chicago_taxi_trips\n",
      "clemson_dice\n",
      "cloud_storage_geo_index\n",
      "cms_codes\n",
      "cms_medicare\n",
      "cms_synthetic_patient_data_omop\n",
      "country_codes\n",
      "covid19_aha\n",
      "covid19_covidtracking\n",
      "covid19_ecdc\n",
      "covid19_ecdc_eu\n",
      "covid19_genome_sequence\n",
      "covid19_geotab_mobility_impact\n",
      "covid19_geotab_mobility_impact_eu\n",
      "covid19_google_mobility\n",
      "covid19_google_mobility_eu\n",
      "covid19_govt_response\n",
      "covid19_italy\n",
      "covid19_italy_eu\n",
      "covid19_jhu_csse\n",
      "covid19_jhu_csse_eu\n",
      "covid19_nyt\n",
      "covid19_open_data\n",
      "covid19_open_data_eu\n",
      "covid19_public_forecasts\n",
      "covid19_public_forecasts_asia_ne1\n",
      "covid19_rxrx19\n",
      "covid19_symptom_search\n",
      "covid19_tracking\n",
      "covid19_usafacts\n",
      "covid19_vaccination_access\n",
      "covid19_vaccination_search_insights\n",
      "covid19_weathersource_com\n",
      "crypto_band\n",
      "crypto_bitcoin\n",
      "crypto_bitcoin_cash\n",
      "crypto_dash\n",
      "crypto_dogecoin\n",
      "crypto_ethereum\n",
      "crypto_ethereum_classic\n",
      "crypto_iotex\n",
      "crypto_kusama\n",
      "crypto_litecoin\n",
      "crypto_near_mainnet_us\n",
      "crypto_polkadot\n",
      "crypto_polygon\n",
      "crypto_solana_mainnet_us\n",
      "crypto_tezos\n",
      "crypto_theta\n",
      "crypto_zcash\n",
      "crypto_zilliqa\n",
      "cymbal_investments\n",
      "dataflix_covid\n",
      "dataflix_traffic_safety\n",
      "deepmind_alphafold\n",
      "deps_dev_v1\n",
      "dimensions_ai_covid19\n",
      "ebi_chembl\n",
      "ebi_surechembl\n",
      "eclipse_megamovie\n",
      "epa_historical_air_quality\n",
      "ethereum_blockchain\n",
      "etsi_technical_standards\n",
      "faa\n",
      "fcc_political_ads\n",
      "fda_drug\n",
      "fda_food\n",
      "fdic_banks\n",
      "fec\n",
      "fhir_synthea\n",
      "ga4_obfuscated_sample_ecommerce\n",
      "gbif\n",
      "gdelt_hathitrustbooks\n",
      "gdelt_internetarchivebooks\n",
      "genomics_cannabis\n",
      "genomics_rice\n",
      "geo_census_blockgroups\n",
      "geo_census_tracts\n",
      "geo_international_ports\n",
      "geo_openstreetmap\n",
      "geo_us_boundaries\n",
      "geo_us_census_places\n",
      "geo_us_roads\n",
      "geo_whos_on_first\n",
      "ghcn_d\n",
      "ghcn_m\n",
      "github_repos\n",
      "gnomAD\n",
      "gnomAD_asiane1\n",
      "gnomAD_eu\n",
      "goog_blockchain_arbitrum_one_us\n",
      "goog_blockchain_avalanche_contract_chain_us\n",
      "goog_blockchain_cronos_mainnet_us\n",
      "goog_blockchain_ethereum_goerli_us\n",
      "goog_blockchain_ethereum_mainnet_us\n",
      "goog_blockchain_fantom_opera_us\n",
      "goog_blockchain_optimism_mainnet_us\n",
      "goog_blockchain_tron_mainnet_us\n",
      "google_ads\n",
      "google_ads_geo_mapping_asia_east1\n",
      "google_ads_geo_mapping_asia_east2\n",
      "google_ads_geo_mapping_asia_northeast1\n",
      "google_ads_geo_mapping_asia_northeast2\n",
      "google_ads_geo_mapping_asia_northeast3\n",
      "google_ads_geo_mapping_asia_south1\n",
      "google_ads_geo_mapping_asia_south2\n",
      "google_ads_geo_mapping_asia_southeast1\n",
      "google_ads_geo_mapping_asia_southeast2\n",
      "google_ads_geo_mapping_australia_southeast1\n",
      "google_ads_geo_mapping_australia_southeast2\n",
      "google_ads_geo_mapping_eu\n",
      "google_ads_geo_mapping_europe_central2\n",
      "google_ads_geo_mapping_europe_north1\n",
      "google_ads_geo_mapping_europe_southwest1\n",
      "google_ads_geo_mapping_europe_west1\n",
      "google_ads_geo_mapping_europe_west2\n",
      "google_ads_geo_mapping_europe_west3\n",
      "google_ads_geo_mapping_europe_west4\n",
      "google_ads_geo_mapping_europe_west6\n",
      "google_ads_geo_mapping_europe_west8\n",
      "google_ads_geo_mapping_europe_west9\n",
      "google_ads_geo_mapping_me_west1\n",
      "google_ads_geo_mapping_northamerica_northeast1\n",
      "google_ads_geo_mapping_northamerica_northeast2\n",
      "google_ads_geo_mapping_southamerica_east1\n",
      "google_ads_geo_mapping_southamerica_west1\n",
      "google_ads_geo_mapping_us\n",
      "google_ads_geo_mapping_us_central1\n",
      "google_ads_geo_mapping_us_east1\n",
      "google_ads_geo_mapping_us_east4\n",
      "google_ads_geo_mapping_us_east5\n",
      "google_ads_geo_mapping_us_south1\n",
      "google_ads_geo_mapping_us_west1\n",
      "google_ads_geo_mapping_us_west2\n",
      "google_ads_geo_mapping_us_west3\n",
      "google_ads_geo_mapping_us_west4\n",
      "google_ads_transparency_center\n",
      "google_analytics_sample\n",
      "google_books_ngrams_2020\n",
      "google_cfe\n",
      "google_cloud_release_notes\n",
      "google_dei\n",
      "google_patents_research\n",
      "google_political_ads\n",
      "google_trends\n",
      "grid_ac\n",
      "hacker_news\n",
      "hud_zipcode_crosswalk\n",
      "human_genome_variants\n",
      "human_variant_annotation\n",
      "idc_current\n",
      "idc_current_clinical\n",
      "idc_v1\n",
      "idc_v10\n",
      "idc_v11\n",
      "idc_v11_clinical\n",
      "idc_v12\n",
      "idc_v12_clinical\n",
      "idc_v13\n",
      "idc_v13_clinical\n",
      "idc_v14\n",
      "idc_v14_clinical\n",
      "idc_v15\n",
      "idc_v15_clinical\n",
      "idc_v16\n",
      "idc_v16_clinical\n",
      "idc_v2\n",
      "idc_v3\n",
      "idc_v4\n",
      "idc_v5\n",
      "idc_v6\n",
      "idc_v7\n",
      "idc_v8\n",
      "idc_v9\n",
      "imdb\n",
      "immune_epitope_db\n",
      "iowa_liquor_sales\n",
      "iowa_liquor_sales_forecasting\n",
      "irs_990\n",
      "labeled_patents\n",
      "libraries_io\n",
      "listenbrainz\n",
      "london_bicycles\n",
      "london_crime\n",
      "london_fire_brigade\n",
      "marec\n",
      "medicare\n",
      "ml_datasets\n",
      "ml_datasets_uscentral1\n",
      "modis_terra_net_primary_production\n",
      "moon_phases\n",
      "multilingual_spoken_words_corpus\n",
      "nasa_wildfire\n",
      "ncaa_basketball\n",
      "nces_ipeds\n",
      "new_york\n",
      "new_york_311\n",
      "new_york_citibike\n",
      "new_york_mv_collisions\n",
      "new_york_subway\n",
      "new_york_taxi_trips\n",
      "new_york_trees\n",
      "nhtsa_traffic_fatalities\n",
      "nih_gudid\n",
      "nih_sequence_read\n",
      "nlm_rxnorm\n",
      "noaa_global_forecast_system\n",
      "noaa_goes16\n",
      "noaa_goes17\n",
      "noaa_gsod\n",
      "noaa_historic_severe_storms\n",
      "noaa_hurricanes\n",
      "noaa_icoads\n",
      "noaa_lightning\n",
      "noaa_nwm\n",
      "noaa_passive_acoustic_index\n",
      "noaa_passive_bioacoustic\n",
      "noaa_pifsc_metadata\n",
      "noaa_preliminary_severe_storms\n",
      "noaa_significant_earthquakes\n",
      "noaa_tsunami\n",
      "nppes\n",
      "nrel_nsrdb\n",
      "open_buildings\n",
      "open_images\n",
      "open_targets_genetics\n",
      "open_targets_platform\n",
      "openaq\n",
      "patents\n",
      "patents_cpc\n",
      "patents_dsep\n",
      "patents_view\n",
      "persistent_udfs\n",
      "properati_properties_ar\n",
      "properati_properties_br\n",
      "properati_properties_cl\n",
      "properati_properties_co\n",
      "properati_properties_mx\n",
      "properati_properties_pe\n",
      "properati_properties_uy\n",
      "pypi\n",
      "samples\n",
      "san_francisco\n",
      "san_francisco_311\n",
      "san_francisco_bikeshare\n",
      "san_francisco_film_locations\n",
      "san_francisco_neighborhoods\n",
      "san_francisco_sffd_service_calls\n",
      "san_francisco_sfpd_incidents\n",
      "san_francisco_transit_muni\n",
      "san_francisco_trees\n",
      "sdoh_bea_cainc30\n",
      "sdoh_cdc_wonder_natality\n",
      "sdoh_cms_dual_eligible_enrollment\n",
      "sdoh_hrsa_shortage_areas\n",
      "sdoh_hud_housing\n",
      "sdoh_hud_pit_homelessness\n",
      "sdoh_snap_enrollment\n",
      "sec_quarterly_financials\n",
      "stackoverflow\n",
      "sunroof_solar\n",
      "the_general_index\n",
      "the_met\n",
      "thelook_ecommerce\n",
      "ucb_fung_patent_data\n",
      "umiami_lincs\n",
      "un_sdg\n",
      "us_res_real_est_data\n",
      "usa_contagious_disease\n",
      "usa_names\n",
      "usda_nass_agriculture\n",
      "usfs_fia\n",
      "usitc_investigations\n",
      "uspto_oce_assignment\n",
      "uspto_oce_cancer\n",
      "uspto_oce_claims\n",
      "uspto_oce_litigation\n",
      "uspto_oce_office_actions\n",
      "uspto_oce_pair\n",
      "uspto_ptab\n",
      "utility_eu\n",
      "utility_us\n",
      "wikipedia\n",
      "wise_all_sky_data_release\n",
      "world_bank_global_population\n",
      "world_bank_health_population\n",
      "world_bank_intl_debt\n",
      "world_bank_intl_education\n",
      "world_bank_wdi\n",
      "worldbank_wdi\n",
      "worldpop\n"
     ]
    }
   ],
   "source": [
    "for ds in bq.list_datasets(\"bigquery-public-data\"):\n",
    "    print(ds.dataset_id)"
   ]
  },
  {
   "cell_type": "code",
   "execution_count": 16,
   "id": "3cb504ec-efb4-402d-9740-5def0f50a01e",
   "metadata": {},
   "outputs": [
    {
     "name": "stdout",
     "output_type": "stream",
     "text": [
      "commits\n",
      "contents\n",
      "files\n",
      "languages\n",
      "licenses\n",
      "sample_commits\n",
      "sample_contents\n",
      "sample_files\n",
      "sample_repos\n"
     ]
    }
   ],
   "source": [
    "for t in bq.list_tables(\"bigquery-public-data.github_repos\"):\n",
    "    print(t.table_id)"
   ]
  },
  {
   "cell_type": "code",
   "execution_count": 17,
   "id": "23da247a-2149-428a-9e8c-bb57487a9ef8",
   "metadata": {},
   "outputs": [],
   "source": [
    "%load_ext google.cloud.bigquery"
   ]
  },
  {
   "cell_type": "code",
   "execution_count": 19,
   "id": "f4ce2896-f6a3-420f-944b-38984f873f77",
   "metadata": {},
   "outputs": [
    {
     "data": {
      "application/vnd.jupyter.widget-view+json": {
       "model_id": "7592a4421f3f4a44b565816f057f5e4f",
       "version_major": 2,
       "version_minor": 0
      },
      "text/plain": [
       "Query is running:   0%|          |"
      ]
     },
     "metadata": {},
     "output_type": "display_data"
    },
    {
     "data": {
      "application/vnd.jupyter.widget-view+json": {
       "model_id": "926d669bba134e69a1876bec7ad73044",
       "version_major": 2,
       "version_minor": 0
      },
      "text/plain": [
       "Downloading:   0%|          |"
      ]
     },
     "metadata": {},
     "output_type": "display_data"
    },
    {
     "data": {
      "text/html": [
       "<div>\n",
       "<style scoped>\n",
       "    .dataframe tbody tr th:only-of-type {\n",
       "        vertical-align: middle;\n",
       "    }\n",
       "\n",
       "    .dataframe tbody tr th {\n",
       "        vertical-align: top;\n",
       "    }\n",
       "\n",
       "    .dataframe thead th {\n",
       "        text-align: right;\n",
       "    }\n",
       "</style>\n",
       "<table border=\"1\" class=\"dataframe\">\n",
       "  <thead>\n",
       "    <tr style=\"text-align: right;\">\n",
       "      <th></th>\n",
       "      <th>repo_name</th>\n",
       "      <th>language</th>\n",
       "    </tr>\n",
       "  </thead>\n",
       "  <tbody>\n",
       "    <tr>\n",
       "      <th>0</th>\n",
       "      <td>lemi136/puntovent</td>\n",
       "      <td>[{'name': 'C', 'bytes': 80}]</td>\n",
       "    </tr>\n",
       "    <tr>\n",
       "      <th>1</th>\n",
       "      <td>taxigps/nctool</td>\n",
       "      <td>[{'name': 'C', 'bytes': 4461}]</td>\n",
       "    </tr>\n",
       "    <tr>\n",
       "      <th>2</th>\n",
       "      <td>ahy1/strbuf</td>\n",
       "      <td>[{'name': 'C', 'bytes': 5573}]</td>\n",
       "    </tr>\n",
       "    <tr>\n",
       "      <th>3</th>\n",
       "      <td>nleiten/mod_rpaf-ng</td>\n",
       "      <td>[{'name': 'C', 'bytes': 30330}]</td>\n",
       "    </tr>\n",
       "    <tr>\n",
       "      <th>4</th>\n",
       "      <td>kmcallister/alameda</td>\n",
       "      <td>[{'name': 'C', 'bytes': 17077}]</td>\n",
       "    </tr>\n",
       "  </tbody>\n",
       "</table>\n",
       "</div>"
      ],
      "text/plain": [
       "             repo_name                         language\n",
       "0    lemi136/puntovent     [{'name': 'C', 'bytes': 80}]\n",
       "1       taxigps/nctool   [{'name': 'C', 'bytes': 4461}]\n",
       "2          ahy1/strbuf   [{'name': 'C', 'bytes': 5573}]\n",
       "3  nleiten/mod_rpaf-ng  [{'name': 'C', 'bytes': 30330}]\n",
       "4  kmcallister/alameda  [{'name': 'C', 'bytes': 17077}]"
      ]
     },
     "execution_count": 19,
     "metadata": {},
     "output_type": "execute_result"
    }
   ],
   "source": [
    "%%bigquery\n",
    "SELECT *\n",
    "FROM `bigquery-public-data.github_repos.languages`\n",
    "LIMIT 5"
   ]
  },
  {
   "cell_type": "code",
   "execution_count": 20,
   "id": "20666a13-a7d6-49a0-9e2d-633196b7636d",
   "metadata": {},
   "outputs": [
    {
     "data": {
      "application/vnd.jupyter.widget-view+json": {
       "model_id": "0295e11199684e29923f324227cbabbb",
       "version_major": 2,
       "version_minor": 0
      },
      "text/plain": [
       "Query is running:   0%|          |"
      ]
     },
     "metadata": {},
     "output_type": "display_data"
    },
    {
     "data": {
      "application/vnd.jupyter.widget-view+json": {
       "model_id": "6f885b5ac6a24d05aef0519e5135391b",
       "version_major": 2,
       "version_minor": 0
      },
      "text/plain": [
       "Downloading:   0%|          |"
      ]
     },
     "metadata": {},
     "output_type": "display_data"
    }
   ],
   "source": [
    "%%bigquery df\n",
    "SELECT *\n",
    "FROM `bigquery-public-data.github_repos.languages`\n",
    "LIMIT 5"
   ]
  },
  {
   "cell_type": "code",
   "execution_count": 21,
   "id": "1a07e048-f2bc-4bf5-ac02-df151eac4971",
   "metadata": {},
   "outputs": [
    {
     "data": {
      "text/html": [
       "<div>\n",
       "<style scoped>\n",
       "    .dataframe tbody tr th:only-of-type {\n",
       "        vertical-align: middle;\n",
       "    }\n",
       "\n",
       "    .dataframe tbody tr th {\n",
       "        vertical-align: top;\n",
       "    }\n",
       "\n",
       "    .dataframe thead th {\n",
       "        text-align: right;\n",
       "    }\n",
       "</style>\n",
       "<table border=\"1\" class=\"dataframe\">\n",
       "  <thead>\n",
       "    <tr style=\"text-align: right;\">\n",
       "      <th></th>\n",
       "      <th>repo_name</th>\n",
       "      <th>language</th>\n",
       "    </tr>\n",
       "  </thead>\n",
       "  <tbody>\n",
       "    <tr>\n",
       "      <th>0</th>\n",
       "      <td>lemi136/puntovent</td>\n",
       "      <td>[{'name': 'C', 'bytes': 80}]</td>\n",
       "    </tr>\n",
       "    <tr>\n",
       "      <th>1</th>\n",
       "      <td>taxigps/nctool</td>\n",
       "      <td>[{'name': 'C', 'bytes': 4461}]</td>\n",
       "    </tr>\n",
       "    <tr>\n",
       "      <th>2</th>\n",
       "      <td>ahy1/strbuf</td>\n",
       "      <td>[{'name': 'C', 'bytes': 5573}]</td>\n",
       "    </tr>\n",
       "    <tr>\n",
       "      <th>3</th>\n",
       "      <td>nleiten/mod_rpaf-ng</td>\n",
       "      <td>[{'name': 'C', 'bytes': 30330}]</td>\n",
       "    </tr>\n",
       "    <tr>\n",
       "      <th>4</th>\n",
       "      <td>kmcallister/alameda</td>\n",
       "      <td>[{'name': 'C', 'bytes': 17077}]</td>\n",
       "    </tr>\n",
       "  </tbody>\n",
       "</table>\n",
       "</div>"
      ],
      "text/plain": [
       "             repo_name                         language\n",
       "0    lemi136/puntovent     [{'name': 'C', 'bytes': 80}]\n",
       "1       taxigps/nctool   [{'name': 'C', 'bytes': 4461}]\n",
       "2          ahy1/strbuf   [{'name': 'C', 'bytes': 5573}]\n",
       "3  nleiten/mod_rpaf-ng  [{'name': 'C', 'bytes': 30330}]\n",
       "4  kmcallister/alameda  [{'name': 'C', 'bytes': 17077}]"
      ]
     },
     "execution_count": 21,
     "metadata": {},
     "output_type": "execute_result"
    }
   ],
   "source": [
    "df"
   ]
  },
  {
   "cell_type": "code",
   "execution_count": 32,
   "id": "40616e8c-e0e9-46b3-8aee-94d6a954ef42",
   "metadata": {},
   "outputs": [],
   "source": [
    "no_cache = bigquery.QueryJobConfig(use_query_cache=False)"
   ]
  },
  {
   "cell_type": "code",
   "execution_count": 33,
   "id": "46842723-cb15-4474-8a3f-97046ed52521",
   "metadata": {},
   "outputs": [],
   "source": [
    "q = bq.query(\"\"\"\n",
    "SELECT *\n",
    "FROM `bigquery-public-data.github_repos.languages`\n",
    "LIMIT 5\n",
    "\"\"\", job_config=no_cache)"
   ]
  },
  {
   "cell_type": "code",
   "execution_count": 34,
   "id": "e83dfa8a-9853-426e-a80d-59a71a9953dc",
   "metadata": {},
   "outputs": [
    {
     "data": {
      "text/html": [
       "<div>\n",
       "<style scoped>\n",
       "    .dataframe tbody tr th:only-of-type {\n",
       "        vertical-align: middle;\n",
       "    }\n",
       "\n",
       "    .dataframe tbody tr th {\n",
       "        vertical-align: top;\n",
       "    }\n",
       "\n",
       "    .dataframe thead th {\n",
       "        text-align: right;\n",
       "    }\n",
       "</style>\n",
       "<table border=\"1\" class=\"dataframe\">\n",
       "  <thead>\n",
       "    <tr style=\"text-align: right;\">\n",
       "      <th></th>\n",
       "      <th>repo_name</th>\n",
       "      <th>language</th>\n",
       "    </tr>\n",
       "  </thead>\n",
       "  <tbody>\n",
       "    <tr>\n",
       "      <th>0</th>\n",
       "      <td>lemi136/puntovent</td>\n",
       "      <td>[{'name': 'C', 'bytes': 80}]</td>\n",
       "    </tr>\n",
       "    <tr>\n",
       "      <th>1</th>\n",
       "      <td>taxigps/nctool</td>\n",
       "      <td>[{'name': 'C', 'bytes': 4461}]</td>\n",
       "    </tr>\n",
       "    <tr>\n",
       "      <th>2</th>\n",
       "      <td>ahy1/strbuf</td>\n",
       "      <td>[{'name': 'C', 'bytes': 5573}]</td>\n",
       "    </tr>\n",
       "    <tr>\n",
       "      <th>3</th>\n",
       "      <td>nleiten/mod_rpaf-ng</td>\n",
       "      <td>[{'name': 'C', 'bytes': 30330}]</td>\n",
       "    </tr>\n",
       "    <tr>\n",
       "      <th>4</th>\n",
       "      <td>kmcallister/alameda</td>\n",
       "      <td>[{'name': 'C', 'bytes': 17077}]</td>\n",
       "    </tr>\n",
       "  </tbody>\n",
       "</table>\n",
       "</div>"
      ],
      "text/plain": [
       "             repo_name                         language\n",
       "0    lemi136/puntovent     [{'name': 'C', 'bytes': 80}]\n",
       "1       taxigps/nctool   [{'name': 'C', 'bytes': 4461}]\n",
       "2          ahy1/strbuf   [{'name': 'C', 'bytes': 5573}]\n",
       "3  nleiten/mod_rpaf-ng  [{'name': 'C', 'bytes': 30330}]\n",
       "4  kmcallister/alameda  [{'name': 'C', 'bytes': 17077}]"
      ]
     },
     "execution_count": 34,
     "metadata": {},
     "output_type": "execute_result"
    }
   ],
   "source": [
    "q.to_dataframe()"
   ]
  },
  {
   "cell_type": "code",
   "execution_count": 35,
   "id": "aaaa0fe8-a0b0-406d-9f81-767bafea1df5",
   "metadata": {},
   "outputs": [
    {
     "data": {
      "text/plain": [
       "194.93627738952637"
      ]
     },
     "execution_count": 35,
     "metadata": {},
     "output_type": "execute_result"
    }
   ],
   "source": [
    "q.total_bytes_processed / 1024**2 # MB"
   ]
  },
  {
   "cell_type": "code",
   "execution_count": 36,
   "id": "88185d32-91db-40a5-b516-bb5f39d96f52",
   "metadata": {},
   "outputs": [
    {
     "data": {
      "text/plain": [
       "195.0"
      ]
     },
     "execution_count": 36,
     "metadata": {},
     "output_type": "execute_result"
    }
   ],
   "source": [
    "q.total_bytes_billed / 1024**2 # MB"
   ]
  },
  {
   "cell_type": "code",
   "execution_count": 27,
   "id": "139d8037-57c5-41c8-9add-9e2905e552b8",
   "metadata": {},
   "outputs": [],
   "source": [
    "# how many times can we do this in the free tier?"
   ]
  },
  {
   "cell_type": "code",
   "execution_count": 37,
   "id": "ce74a2f3-1bc9-40a8-9ad7-c6153e86d8bc",
   "metadata": {},
   "outputs": [
    {
     "data": {
      "text/plain": [
       "5377.3128205128205"
      ]
     },
     "execution_count": 37,
     "metadata": {},
     "output_type": "execute_result"
    }
   ],
   "source": [
    "tb = 1024**4\n",
    "tb / q.total_bytes_billed"
   ]
  },
  {
   "cell_type": "code",
   "execution_count": null,
   "id": "9d12e925-cc5a-45a2-bf44-356ee3d70855",
   "metadata": {},
   "outputs": [],
   "source": [
    "# how much will it per query after that in, Tokyo"
   ]
  },
  {
   "cell_type": "code",
   "execution_count": 38,
   "id": "afe3e120-8281-493d-a5aa-2572582f5d16",
   "metadata": {},
   "outputs": [
    {
     "data": {
      "text/plain": [
       "0.0013947486877441406"
      ]
     },
     "execution_count": 38,
     "metadata": {},
     "output_type": "execute_result"
    }
   ],
   "source": [
    "price_per_tb = 7.5\n",
    "q.total_bytes_billed / tb * price_per_tb"
   ]
  },
  {
   "cell_type": "code",
   "execution_count": null,
   "id": "8b264e7f-5e50-4ff2-9c3b-ea29ced11157",
   "metadata": {},
   "outputs": [],
   "source": [
    "# pricing factors:\n",
    "# 1. you pay for storage too (not just queries)\n",
    "# 2. they have a minimum of 10 MB per query\n",
    "# 3. they round up to the nearest 1 MB per query"
   ]
  },
  {
   "cell_type": "code",
   "execution_count": 39,
   "id": "c9afc360-d5cb-44b7-b3c8-8ade032a8b5d",
   "metadata": {},
   "outputs": [
    {
     "data": {
      "application/vnd.jupyter.widget-view+json": {
       "model_id": "f178b3ae471b469480269dd617783023",
       "version_major": 2,
       "version_minor": 0
      },
      "text/plain": [
       "Query is running:   0%|          |"
      ]
     },
     "metadata": {},
     "output_type": "display_data"
    },
    {
     "data": {
      "application/vnd.jupyter.widget-view+json": {
       "model_id": "369bf63ea8aa42ae8aeae730d3993580",
       "version_major": 2,
       "version_minor": 0
      },
      "text/plain": [
       "Downloading:   0%|          |"
      ]
     },
     "metadata": {},
     "output_type": "display_data"
    }
   ],
   "source": [
    "%%bigquery df\n",
    "SELECT *\n",
    "FROM `bigquery-public-data.github_repos.languages`\n",
    "WHERE repo_name LIKE 'open-lambda/%'\n",
    "LIMIT 5"
   ]
  },
  {
   "cell_type": "code",
   "execution_count": 40,
   "id": "90827c06-dbc5-42a3-9294-f140c42f3b9b",
   "metadata": {},
   "outputs": [
    {
     "data": {
      "text/html": [
       "<div>\n",
       "<style scoped>\n",
       "    .dataframe tbody tr th:only-of-type {\n",
       "        vertical-align: middle;\n",
       "    }\n",
       "\n",
       "    .dataframe tbody tr th {\n",
       "        vertical-align: top;\n",
       "    }\n",
       "\n",
       "    .dataframe thead th {\n",
       "        text-align: right;\n",
       "    }\n",
       "</style>\n",
       "<table border=\"1\" class=\"dataframe\">\n",
       "  <thead>\n",
       "    <tr style=\"text-align: right;\">\n",
       "      <th></th>\n",
       "      <th>repo_name</th>\n",
       "      <th>language</th>\n",
       "    </tr>\n",
       "  </thead>\n",
       "  <tbody>\n",
       "    <tr>\n",
       "      <th>0</th>\n",
       "      <td>open-lambda/open-lambda</td>\n",
       "      <td>[{'name': 'C', 'bytes': 31159}, {'name': 'Dock...</td>\n",
       "    </tr>\n",
       "    <tr>\n",
       "      <th>1</th>\n",
       "      <td>open-lambda/load-balancer</td>\n",
       "      <td>[{'name': 'C', 'bytes': 210}, {'name': 'Go', '...</td>\n",
       "    </tr>\n",
       "  </tbody>\n",
       "</table>\n",
       "</div>"
      ],
      "text/plain": [
       "                   repo_name  \\\n",
       "0    open-lambda/open-lambda   \n",
       "1  open-lambda/load-balancer   \n",
       "\n",
       "                                            language  \n",
       "0  [{'name': 'C', 'bytes': 31159}, {'name': 'Dock...  \n",
       "1  [{'name': 'C', 'bytes': 210}, {'name': 'Go', '...  "
      ]
     },
     "execution_count": 40,
     "metadata": {},
     "output_type": "execute_result"
    }
   ],
   "source": [
    "df"
   ]
  }
 ],
 "metadata": {
  "kernelspec": {
   "display_name": "Python 3 (ipykernel)",
   "language": "python",
   "name": "python3"
  },
  "language_info": {
   "codemirror_mode": {
    "name": "ipython",
    "version": 3
   },
   "file_extension": ".py",
   "mimetype": "text/x-python",
   "name": "python",
   "nbconvert_exporter": "python",
   "pygments_lexer": "ipython3",
   "version": "3.10.12"
  }
 },
 "nbformat": 4,
 "nbformat_minor": 5
}
